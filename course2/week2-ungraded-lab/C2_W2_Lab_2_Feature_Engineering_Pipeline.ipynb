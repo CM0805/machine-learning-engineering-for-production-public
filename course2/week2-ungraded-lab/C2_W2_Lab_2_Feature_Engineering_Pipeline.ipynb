{
 "cells": [
  {
   "cell_type": "markdown",
   "metadata": {
    "id": "23R0Z9RojXYW"
   },
   "source": [
    "# Ungraded Lab: Feature Engineering Pipeline\n",
    "\n",
    "\n",
    "In this lab, you will continue exploring [Tensorflow Transform](https://www.tensorflow.org/tfx/transform/get_started). This time, it will be in the context of a machine learning (ML) pipeline. In production-grade projects, you want to streamline tasks so you can more easily improve your model or find issues that may arise. [Tensorflow Extended (TFX)](https://www.tensorflow.org/tfx) provides components that work together to execute the most common steps in a machine learning project. If you want to dig deeper into the motivations behind TFX and the need for machine learning pipelines, you can read about it in [this paper](https://storage.googleapis.com/pub-tools-public-publication-data/pdf/b500d77bc4f518a1165c0ab43c8fac5d2948bc14.pdf) and in this [blog post](https://blog.tensorflow.org/2020/09/brief-history-of-tensorflow-extended-tfx.html).\n",
    "\n",
    "You will build end-to-end pipelines in future courses but for this one, you will only build up to the feature engineering part. Specifically, you will:\n",
    "\n",
    "* ingest data from a base directory with `ExampleGen`\n",
    "* compute the statistics of the training data with `StatisticsGen`\n",
    "* infer a schema with `SchemaGen`\n",
    "* detect anomalies in the evaluation data with `ExampleValidator`\n",
    "* preprocess the data into features suitable for model training with `Transform`\n",
    "\n",
    "If several steps mentioned above sound familiar, it's because the TFX components that deal with data validation and analysis (i.e. `StatisticsGen`, `SchemaGen`, `ExampleValidator`) uses [Tensorflow Data Validation (TFDV)](https://www.tensorflow.org/tfx/data_validation/get_started) under the hood. You're already familiar with this library from the exercises in Week 1 and for this week, you'll see how it fits within an ML pipeline.\n",
    "\n",
    "The components you will use are the orange boxes highlighted in the figure below:\n",
    "\n",
    "<img src='img/feature_eng_pipeline.png'>\n",
    "\n"
   ]
  },
  {
   "cell_type": "markdown",
   "metadata": {
    "id": "2GivNBNYjb3b"
   },
   "source": [
    "## Setup"
   ]
  },
  {
   "cell_type": "markdown",
   "metadata": {
    "id": "N-ePgV0Lj68Q"
   },
   "source": [
    "### Import packages\n",
    "\n",
    "Let's begin by importing the required packages and modules. In case you want to replicate this in your local workstation, we used *Tensorflow v2.6* and *TFX v1.3.0*."
   ]
  },
  {
   "cell_type": "code",
   "execution_count": 3,
   "metadata": {},
   "outputs": [
    {
     "name": "stdout",
     "output_type": "stream",
     "text": [
      "Collecting tfx\n",
      "  Using cached tfx-1.5.0-py3-none-any.whl (2.4 MB)\n",
      "Collecting portpicker<2,>=1.3.1\n",
      "  Using cached portpicker-1.5.0-py3-none-any.whl (14 kB)\n",
      "Collecting tensorflow-model-analysis<0.37,>=0.36.0\n",
      "  Using cached tensorflow_model_analysis-0.36.0-py3-none-any.whl (1.8 MB)\n",
      "Requirement already satisfied: google-api-python-client<2,>=1.8 in c:\\users\\cmmt8\\miniconda3\\envs\\mlep-w1-lab\\lib\\site-packages (from tfx) (1.12.8)\n",
      "Requirement already satisfied: click<8,>=7 in c:\\users\\cmmt8\\miniconda3\\envs\\mlep-w1-lab\\lib\\site-packages (from tfx) (7.1.2)\n",
      "Collecting docker<5,>=4.1\n",
      "  Using cached docker-4.4.4-py2.py3-none-any.whl (147 kB)\n",
      "Requirement already satisfied: numpy<1.20,>=1.16 in c:\\users\\cmmt8\\miniconda3\\envs\\mlep-w1-lab\\lib\\site-packages (from tfx) (1.18.5)\n",
      "Requirement already satisfied: absl-py<0.13,>=0.9 in c:\\users\\cmmt8\\miniconda3\\envs\\mlep-w1-lab\\lib\\site-packages (from tfx) (0.12.0)\n",
      "Requirement already satisfied: jinja2<4,>=2.7.3 in c:\\users\\cmmt8\\miniconda3\\envs\\mlep-w1-lab\\lib\\site-packages (from tfx) (3.0.3)\n",
      "Requirement already satisfied: protobuf<4,>=3.13 in c:\\users\\cmmt8\\miniconda3\\envs\\mlep-w1-lab\\lib\\site-packages (from tfx) (3.19.1)\n",
      "Collecting keras-tuner<2,>=1.0.4\n",
      "  Using cached keras_tuner-1.1.0-py3-none-any.whl (98 kB)\n",
      "Requirement already satisfied: google-apitools<1,>=0.5 in c:\\users\\cmmt8\\miniconda3\\envs\\mlep-w1-lab\\lib\\site-packages (from tfx) (0.5.31)\n",
      "Requirement already satisfied: apache-beam[gcp]<3,>=2.34 in c:\\users\\cmmt8\\miniconda3\\envs\\mlep-w1-lab\\lib\\site-packages (from tfx) (2.34.0)\n",
      "Collecting kubernetes<13,>=10.0.1\n",
      "  Using cached kubernetes-12.0.1-py2.py3-none-any.whl (1.7 MB)\n",
      "Requirement already satisfied: tensorflow-transform<1.6.0,>=1.5.0 in c:\\users\\cmmt8\\miniconda3\\envs\\mlep-w1-lab\\lib\\site-packages (from tfx) (1.5.0)\n",
      "Requirement already satisfied: grpcio<2,>=1.28.1 in c:\\users\\cmmt8\\miniconda3\\envs\\mlep-w1-lab\\lib\\site-packages (from tfx) (1.42.0)\n",
      "Collecting ml-metadata<1.6.0,>=1.5.0\n",
      "  Using cached ml_metadata-1.5.0-cp37-cp37m-win_amd64.whl (1.6 MB)\n",
      "Requirement already satisfied: tensorflow!=2.0.*,!=2.1.*,!=2.2.*,!=2.3.*,!=2.4.*,!=2.5.*,!=2.6.*,<2.8,>=1.15.2 in c:\\users\\cmmt8\\miniconda3\\envs\\mlep-w1-lab\\lib\\site-packages (from tfx) (2.7.0)\n",
      "Collecting attrs<21,>=19.3.0\n",
      "  Using cached attrs-20.3.0-py2.py3-none-any.whl (49 kB)\n",
      "Collecting packaging<21,>=20\n",
      "  Using cached packaging-20.9-py2.py3-none-any.whl (40 kB)\n",
      "Requirement already satisfied: google-cloud-bigquery<3,>=2.26.0 in c:\\users\\cmmt8\\miniconda3\\envs\\mlep-w1-lab\\lib\\site-packages (from tfx) (2.31.0)\n",
      "Collecting tensorflow-hub<0.13,>=0.9.0\n",
      "  Using cached tensorflow_hub-0.12.0-py2.py3-none-any.whl (108 kB)\n",
      "Collecting pyyaml<6,>=3.12\n",
      "  Using cached PyYAML-5.4.1-cp37-cp37m-win_amd64.whl (210 kB)\n",
      "Requirement already satisfied: tfx-bsl<1.6.0,>=1.5.0 in c:\\users\\cmmt8\\miniconda3\\envs\\mlep-w1-lab\\lib\\site-packages (from tfx) (1.5.0)\n",
      "Collecting google-cloud-aiplatform<2,>=1.5.0\n",
      "  Using cached google_cloud_aiplatform-1.8.1-py2.py3-none-any.whl (1.7 MB)\n",
      "Requirement already satisfied: tensorflow-serving-api!=2.0.*,!=2.1.*,!=2.2.*,!=2.3.*,!=2.4.*,!=2.5.*,!=2.6.*,<3,>=1.15 in c:\\users\\cmmt8\\miniconda3\\envs\\mlep-w1-lab\\lib\\site-packages (from tfx) (2.7.0)\n",
      "Requirement already satisfied: tensorflow-data-validation<1.6.0,>=1.5.0 in c:\\users\\cmmt8\\miniconda3\\envs\\mlep-w1-lab\\lib\\site-packages (from tfx) (1.5.0)\n",
      "Requirement already satisfied: pyarrow<6,>=1 in c:\\users\\cmmt8\\miniconda3\\envs\\mlep-w1-lab\\lib\\site-packages (from tfx) (5.0.0)\n",
      "Collecting ml-pipelines-sdk==1.5.0\n",
      "  Using cached ml_pipelines_sdk-1.5.0-py3-none-any.whl (1.2 MB)\n",
      "Requirement already satisfied: six in c:\\users\\cmmt8\\miniconda3\\envs\\mlep-w1-lab\\lib\\site-packages (from absl-py<0.13,>=0.9->tfx) (1.16.0)\n",
      "Requirement already satisfied: hdfs<3.0.0,>=2.1.0 in c:\\users\\cmmt8\\miniconda3\\envs\\mlep-w1-lab\\lib\\site-packages (from apache-beam[gcp]<3,>=2.34->tfx) (2.6.0)\n",
      "Requirement already satisfied: crcmod<2.0,>=1.7 in c:\\users\\cmmt8\\miniconda3\\envs\\mlep-w1-lab\\lib\\site-packages (from apache-beam[gcp]<3,>=2.34->tfx) (1.7)\n",
      "Requirement already satisfied: typing-extensions<4,>=3.7.0 in c:\\users\\cmmt8\\miniconda3\\envs\\mlep-w1-lab\\lib\\site-packages (from apache-beam[gcp]<3,>=2.34->tfx) (3.10.0.2)\n",
      "Requirement already satisfied: avro-python3!=1.9.2,<1.10.0,>=1.8.1 in c:\\users\\cmmt8\\miniconda3\\envs\\mlep-w1-lab\\lib\\site-packages (from apache-beam[gcp]<3,>=2.34->tfx) (1.9.2.1)\n",
      "Requirement already satisfied: pymongo<4.0.0,>=3.8.0 in c:\\users\\cmmt8\\miniconda3\\envs\\mlep-w1-lab\\lib\\site-packages (from apache-beam[gcp]<3,>=2.34->tfx) (3.12.3)\n",
      "Requirement already satisfied: httplib2<0.20.0,>=0.8 in c:\\users\\cmmt8\\miniconda3\\envs\\mlep-w1-lab\\lib\\site-packages (from apache-beam[gcp]<3,>=2.34->tfx) (0.19.1)\n",
      "Requirement already satisfied: pytz>=2018.3 in c:\\users\\cmmt8\\miniconda3\\envs\\mlep-w1-lab\\lib\\site-packages (from apache-beam[gcp]<3,>=2.34->tfx) (2021.3)\n",
      "Requirement already satisfied: requests<3.0.0,>=2.24.0 in c:\\users\\cmmt8\\miniconda3\\envs\\mlep-w1-lab\\lib\\site-packages (from apache-beam[gcp]<3,>=2.34->tfx) (2.26.0)\n",
      "Requirement already satisfied: fastavro<2,>=0.21.4 in c:\\users\\cmmt8\\miniconda3\\envs\\mlep-w1-lab\\lib\\site-packages (from apache-beam[gcp]<3,>=2.34->tfx) (1.4.7)\n",
      "Requirement already satisfied: oauth2client<5,>=2.0.1 in c:\\users\\cmmt8\\miniconda3\\envs\\mlep-w1-lab\\lib\\site-packages (from apache-beam[gcp]<3,>=2.34->tfx) (4.1.3)\n",
      "Requirement already satisfied: pydot<2,>=1.2.0 in c:\\users\\cmmt8\\miniconda3\\envs\\mlep-w1-lab\\lib\\site-packages (from apache-beam[gcp]<3,>=2.34->tfx) (1.4.2)\n",
      "Requirement already satisfied: dill<0.3.2,>=0.3.1.1 in c:\\users\\cmmt8\\miniconda3\\envs\\mlep-w1-lab\\lib\\site-packages (from apache-beam[gcp]<3,>=2.34->tfx) (0.3.1.1)\n",
      "Requirement already satisfied: orjson<4.0 in c:\\users\\cmmt8\\miniconda3\\envs\\mlep-w1-lab\\lib\\site-packages (from apache-beam[gcp]<3,>=2.34->tfx) (3.6.5)\n",
      "Requirement already satisfied: future<1.0.0,>=0.18.2 in c:\\users\\cmmt8\\miniconda3\\envs\\mlep-w1-lab\\lib\\site-packages (from apache-beam[gcp]<3,>=2.34->tfx) (0.18.2)\n",
      "Requirement already satisfied: python-dateutil<3,>=2.8.0 in c:\\users\\cmmt8\\miniconda3\\envs\\mlep-w1-lab\\lib\\site-packages (from apache-beam[gcp]<3,>=2.34->tfx) (2.8.2)\n",
      "Requirement already satisfied: grpcio-gcp<1,>=0.2.2 in c:\\users\\cmmt8\\miniconda3\\envs\\mlep-w1-lab\\lib\\site-packages (from apache-beam[gcp]<3,>=2.34->tfx) (0.2.2)\n",
      "Requirement already satisfied: google-cloud-language<2,>=1.3.0 in c:\\users\\cmmt8\\miniconda3\\envs\\mlep-w1-lab\\lib\\site-packages (from apache-beam[gcp]<3,>=2.34->tfx) (1.3.0)\n",
      "Requirement already satisfied: google-cloud-vision<2,>=0.38.0 in c:\\users\\cmmt8\\miniconda3\\envs\\mlep-w1-lab\\lib\\site-packages (from apache-beam[gcp]<3,>=2.34->tfx) (1.0.0)\n",
      "Requirement already satisfied: google-cloud-spanner<2,>=1.13.0 in c:\\users\\cmmt8\\miniconda3\\envs\\mlep-w1-lab\\lib\\site-packages (from apache-beam[gcp]<3,>=2.34->tfx) (1.19.1)\n",
      "Requirement already satisfied: google-cloud-datastore<2,>=1.8.0 in c:\\users\\cmmt8\\miniconda3\\envs\\mlep-w1-lab\\lib\\site-packages (from apache-beam[gcp]<3,>=2.34->tfx) (1.15.3)\n",
      "Requirement already satisfied: google-auth<3,>=1.18.0 in c:\\users\\cmmt8\\miniconda3\\envs\\mlep-w1-lab\\lib\\site-packages (from apache-beam[gcp]<3,>=2.34->tfx) (1.35.0)\n",
      "Requirement already satisfied: google-cloud-core<2,>=0.28.1 in c:\\users\\cmmt8\\miniconda3\\envs\\mlep-w1-lab\\lib\\site-packages (from apache-beam[gcp]<3,>=2.34->tfx) (1.7.2)\n",
      "Requirement already satisfied: google-cloud-bigtable<2,>=0.31.1 in c:\\users\\cmmt8\\miniconda3\\envs\\mlep-w1-lab\\lib\\site-packages (from apache-beam[gcp]<3,>=2.34->tfx) (1.7.0)\n",
      "Requirement already satisfied: google-cloud-dlp<2,>=0.12.0 in c:\\users\\cmmt8\\miniconda3\\envs\\mlep-w1-lab\\lib\\site-packages (from apache-beam[gcp]<3,>=2.34->tfx) (1.0.0)\n",
      "Requirement already satisfied: cachetools<5,>=3.1.0 in c:\\users\\cmmt8\\miniconda3\\envs\\mlep-w1-lab\\lib\\site-packages (from apache-beam[gcp]<3,>=2.34->tfx) (4.2.4)\n",
      "Requirement already satisfied: google-cloud-recommendations-ai<=0.2.0,>=0.1.0 in c:\\users\\cmmt8\\miniconda3\\envs\\mlep-w1-lab\\lib\\site-packages (from apache-beam[gcp]<3,>=2.34->tfx) (0.2.0)\n",
      "Requirement already satisfied: google-cloud-pubsub<2,>=0.39.0 in c:\\users\\cmmt8\\miniconda3\\envs\\mlep-w1-lab\\lib\\site-packages (from apache-beam[gcp]<3,>=2.34->tfx) (1.7.0)\n",
      "Requirement already satisfied: google-cloud-videointelligence<2,>=1.8.0 in c:\\users\\cmmt8\\miniconda3\\envs\\mlep-w1-lab\\lib\\site-packages (from apache-beam[gcp]<3,>=2.34->tfx) (1.16.1)\n",
      "Requirement already satisfied: google-cloud-bigquery-storage>=2.6.3 in c:\\users\\cmmt8\\miniconda3\\envs\\mlep-w1-lab\\lib\\site-packages (from apache-beam[gcp]<3,>=2.34->tfx) (2.10.1)\n",
      "Requirement already satisfied: websocket-client>=0.32.0 in c:\\users\\cmmt8\\miniconda3\\envs\\mlep-w1-lab\\lib\\site-packages (from docker<5,>=4.1->tfx) (1.2.1)\n",
      "Collecting pywin32==227\n",
      "  Using cached pywin32-227-cp37-cp37m-win_amd64.whl (9.1 MB)\n",
      "Requirement already satisfied: google-api-core<2dev,>=1.21.0 in c:\\users\\cmmt8\\miniconda3\\envs\\mlep-w1-lab\\lib\\site-packages (from google-api-python-client<2,>=1.8->tfx) (1.31.5)\n",
      "Requirement already satisfied: google-auth-httplib2>=0.0.3 in c:\\users\\cmmt8\\miniconda3\\envs\\mlep-w1-lab\\lib\\site-packages (from google-api-python-client<2,>=1.8->tfx) (0.1.0)\n",
      "Requirement already satisfied: uritemplate<4dev,>=3.0.0 in c:\\users\\cmmt8\\miniconda3\\envs\\mlep-w1-lab\\lib\\site-packages (from google-api-python-client<2,>=1.8->tfx) (3.0.1)\n",
      "Requirement already satisfied: setuptools>=40.3.0 in c:\\users\\cmmt8\\miniconda3\\envs\\mlep-w1-lab\\lib\\site-packages (from google-api-core<2dev,>=1.21.0->google-api-python-client<2,>=1.8->tfx) (58.0.4)\n",
      "Requirement already satisfied: googleapis-common-protos<2.0dev,>=1.6.0 in c:\\users\\cmmt8\\miniconda3\\envs\\mlep-w1-lab\\lib\\site-packages (from google-api-core<2dev,>=1.21.0->google-api-python-client<2,>=1.8->tfx) (1.54.0)\n",
      "Requirement already satisfied: fasteners>=0.14 in c:\\users\\cmmt8\\miniconda3\\envs\\mlep-w1-lab\\lib\\site-packages (from google-apitools<1,>=0.5->tfx) (0.16.3)\n",
      "Requirement already satisfied: pyasn1-modules>=0.2.1 in c:\\users\\cmmt8\\miniconda3\\envs\\mlep-w1-lab\\lib\\site-packages (from google-auth<3,>=1.18.0->apache-beam[gcp]<3,>=2.34->tfx) (0.2.8)\n",
      "Requirement already satisfied: rsa<5,>=3.1.4 in c:\\users\\cmmt8\\miniconda3\\envs\\mlep-w1-lab\\lib\\site-packages (from google-auth<3,>=1.18.0->apache-beam[gcp]<3,>=2.34->tfx) (4.8)\n",
      "Requirement already satisfied: proto-plus>=1.10.1 in c:\\users\\cmmt8\\miniconda3\\envs\\mlep-w1-lab\\lib\\site-packages (from google-cloud-aiplatform<2,>=1.5.0->tfx) (1.19.8)\n",
      "Collecting google-cloud-storage<2.0.0dev,>=1.32.0\n",
      "  Using cached google_cloud_storage-1.43.0-py2.py3-none-any.whl (106 kB)\n",
      "Requirement already satisfied: google-resumable-media<3.0dev,>=0.6.0 in c:\\users\\cmmt8\\miniconda3\\envs\\mlep-w1-lab\\lib\\site-packages (from google-cloud-bigquery<3,>=2.26.0->tfx) (2.1.0)\n",
      "Requirement already satisfied: libcst>=0.2.5 in c:\\users\\cmmt8\\miniconda3\\envs\\mlep-w1-lab\\lib\\site-packages (from google-cloud-bigquery-storage>=2.6.3->apache-beam[gcp]<3,>=2.34->tfx) (0.3.23)\n",
      "Requirement already satisfied: grpc-google-iam-v1<0.13dev,>=0.12.3 in c:\\users\\cmmt8\\miniconda3\\envs\\mlep-w1-lab\\lib\\site-packages (from google-cloud-bigtable<2,>=0.31.1->apache-beam[gcp]<3,>=2.34->tfx) (0.12.3)\n",
      "Requirement already satisfied: google-crc32c<2.0dev,>=1.0 in c:\\users\\cmmt8\\miniconda3\\envs\\mlep-w1-lab\\lib\\site-packages (from google-resumable-media<3.0dev,>=0.6.0->google-cloud-bigquery<3,>=2.26.0->tfx) (1.3.0)\n",
      "Requirement already satisfied: docopt in c:\\users\\cmmt8\\miniconda3\\envs\\mlep-w1-lab\\lib\\site-packages (from hdfs<3.0.0,>=2.1.0->apache-beam[gcp]<3,>=2.34->tfx) (0.6.2)\n",
      "Requirement already satisfied: pyparsing<3,>=2.4.2 in c:\\users\\cmmt8\\miniconda3\\envs\\mlep-w1-lab\\lib\\site-packages (from httplib2<0.20.0,>=0.8->apache-beam[gcp]<3,>=2.34->tfx) (2.4.7)\n",
      "Requirement already satisfied: MarkupSafe>=2.0 in c:\\users\\cmmt8\\miniconda3\\envs\\mlep-w1-lab\\lib\\site-packages (from jinja2<4,>=2.7.3->tfx) (2.0.1)\n",
      "Requirement already satisfied: tensorboard in c:\\users\\cmmt8\\miniconda3\\envs\\mlep-w1-lab\\lib\\site-packages (from keras-tuner<2,>=1.0.4->tfx) (2.7.0)\n",
      "Requirement already satisfied: scipy in c:\\users\\cmmt8\\miniconda3\\envs\\mlep-w1-lab\\lib\\site-packages (from keras-tuner<2,>=1.0.4->tfx) (1.7.3)\n",
      "Collecting kt-legacy\n",
      "  Using cached kt_legacy-1.0.4-py3-none-any.whl (9.6 kB)\n",
      "Requirement already satisfied: ipython in c:\\users\\cmmt8\\miniconda3\\envs\\mlep-w1-lab\\lib\\site-packages (from keras-tuner<2,>=1.0.4->tfx) (7.30.1)\n",
      "Requirement already satisfied: requests-oauthlib in c:\\users\\cmmt8\\miniconda3\\envs\\mlep-w1-lab\\lib\\site-packages (from kubernetes<13,>=10.0.1->tfx) (1.3.0)\n",
      "Requirement already satisfied: urllib3>=1.24.2 in c:\\users\\cmmt8\\miniconda3\\envs\\mlep-w1-lab\\lib\\site-packages (from kubernetes<13,>=10.0.1->tfx) (1.26.7)\n",
      "Requirement already satisfied: certifi>=14.05.14 in c:\\users\\cmmt8\\miniconda3\\envs\\mlep-w1-lab\\lib\\site-packages (from kubernetes<13,>=10.0.1->tfx) (2021.10.8)\n",
      "Requirement already satisfied: typing-inspect>=0.4.0 in c:\\users\\cmmt8\\miniconda3\\envs\\mlep-w1-lab\\lib\\site-packages (from libcst>=0.2.5->google-cloud-bigquery-storage>=2.6.3->apache-beam[gcp]<3,>=2.34->tfx) (0.7.1)\n",
      "Requirement already satisfied: pyasn1>=0.1.7 in c:\\users\\cmmt8\\miniconda3\\envs\\mlep-w1-lab\\lib\\site-packages (from oauth2client<5,>=2.0.1->apache-beam[gcp]<3,>=2.34->tfx) (0.4.8)\n",
      "Collecting psutil\n",
      "  Using cached psutil-5.8.0-cp37-cp37m-win_amd64.whl (244 kB)\n",
      "Requirement already satisfied: charset-normalizer~=2.0.0 in c:\\users\\cmmt8\\miniconda3\\envs\\mlep-w1-lab\\lib\\site-packages (from requests<3.0.0,>=2.24.0->apache-beam[gcp]<3,>=2.34->tfx) (2.0.9)\n",
      "Requirement already satisfied: idna<4,>=2.5 in c:\\users\\cmmt8\\miniconda3\\envs\\mlep-w1-lab\\lib\\site-packages (from requests<3.0.0,>=2.24.0->apache-beam[gcp]<3,>=2.34->tfx) (3.3)\n",
      "Requirement already satisfied: gast<0.5.0,>=0.2.1 in c:\\users\\cmmt8\\miniconda3\\envs\\mlep-w1-lab\\lib\\site-packages (from tensorflow!=2.0.*,!=2.1.*,!=2.2.*,!=2.3.*,!=2.4.*,!=2.5.*,!=2.6.*,<2.8,>=1.15.2->tfx) (0.3.3)\n",
      "Requirement already satisfied: libclang>=9.0.1 in c:\\users\\cmmt8\\miniconda3\\envs\\mlep-w1-lab\\lib\\site-packages (from tensorflow!=2.0.*,!=2.1.*,!=2.2.*,!=2.3.*,!=2.4.*,!=2.5.*,!=2.6.*,<2.8,>=1.15.2->tfx) (12.0.0)\n",
      "Requirement already satisfied: google-pasta>=0.1.1 in c:\\users\\cmmt8\\miniconda3\\envs\\mlep-w1-lab\\lib\\site-packages (from tensorflow!=2.0.*,!=2.1.*,!=2.2.*,!=2.3.*,!=2.4.*,!=2.5.*,!=2.6.*,<2.8,>=1.15.2->tfx) (0.2.0)\n",
      "Requirement already satisfied: wheel<1.0,>=0.32.0 in c:\\users\\cmmt8\\miniconda3\\envs\\mlep-w1-lab\\lib\\site-packages (from tensorflow!=2.0.*,!=2.1.*,!=2.2.*,!=2.3.*,!=2.4.*,!=2.5.*,!=2.6.*,<2.8,>=1.15.2->tfx) (0.37.0)\n",
      "Requirement already satisfied: tensorflow-io-gcs-filesystem>=0.21.0 in c:\\users\\cmmt8\\miniconda3\\envs\\mlep-w1-lab\\lib\\site-packages (from tensorflow!=2.0.*,!=2.1.*,!=2.2.*,!=2.3.*,!=2.4.*,!=2.5.*,!=2.6.*,<2.8,>=1.15.2->tfx) (0.23.1)\n",
      "Requirement already satisfied: flatbuffers<3.0,>=1.12 in c:\\users\\cmmt8\\miniconda3\\envs\\mlep-w1-lab\\lib\\site-packages (from tensorflow!=2.0.*,!=2.1.*,!=2.2.*,!=2.3.*,!=2.4.*,!=2.5.*,!=2.6.*,<2.8,>=1.15.2->tfx) (2.0)\n",
      "Requirement already satisfied: keras-preprocessing>=1.1.1 in c:\\users\\cmmt8\\miniconda3\\envs\\mlep-w1-lab\\lib\\site-packages (from tensorflow!=2.0.*,!=2.1.*,!=2.2.*,!=2.3.*,!=2.4.*,!=2.5.*,!=2.6.*,<2.8,>=1.15.2->tfx) (1.1.2)\n",
      "Requirement already satisfied: keras<2.8,>=2.7.0rc0 in c:\\users\\cmmt8\\miniconda3\\envs\\mlep-w1-lab\\lib\\site-packages (from tensorflow!=2.0.*,!=2.1.*,!=2.2.*,!=2.3.*,!=2.4.*,!=2.5.*,!=2.6.*,<2.8,>=1.15.2->tfx) (2.7.0)\n",
      "Requirement already satisfied: h5py>=2.9.0 in c:\\users\\cmmt8\\miniconda3\\envs\\mlep-w1-lab\\lib\\site-packages (from tensorflow!=2.0.*,!=2.1.*,!=2.2.*,!=2.3.*,!=2.4.*,!=2.5.*,!=2.6.*,<2.8,>=1.15.2->tfx) (2.10.0)\n",
      "Requirement already satisfied: astunparse>=1.6.0 in c:\\users\\cmmt8\\miniconda3\\envs\\mlep-w1-lab\\lib\\site-packages (from tensorflow!=2.0.*,!=2.1.*,!=2.2.*,!=2.3.*,!=2.4.*,!=2.5.*,!=2.6.*,<2.8,>=1.15.2->tfx) (1.6.3)\n",
      "Requirement already satisfied: tensorflow-estimator<2.8,~=2.7.0rc0 in c:\\users\\cmmt8\\miniconda3\\envs\\mlep-w1-lab\\lib\\site-packages (from tensorflow!=2.0.*,!=2.1.*,!=2.2.*,!=2.3.*,!=2.4.*,!=2.5.*,!=2.6.*,<2.8,>=1.15.2->tfx) (2.7.0)\n",
      "Requirement already satisfied: wrapt>=1.11.0 in c:\\users\\cmmt8\\miniconda3\\envs\\mlep-w1-lab\\lib\\site-packages (from tensorflow!=2.0.*,!=2.1.*,!=2.2.*,!=2.3.*,!=2.4.*,!=2.5.*,!=2.6.*,<2.8,>=1.15.2->tfx) (1.13.3)\n",
      "Requirement already satisfied: opt-einsum>=2.3.2 in c:\\users\\cmmt8\\miniconda3\\envs\\mlep-w1-lab\\lib\\site-packages (from tensorflow!=2.0.*,!=2.1.*,!=2.2.*,!=2.3.*,!=2.4.*,!=2.5.*,!=2.6.*,<2.8,>=1.15.2->tfx) (3.3.0)\n",
      "Requirement already satisfied: termcolor>=1.1.0 in c:\\users\\cmmt8\\miniconda3\\envs\\mlep-w1-lab\\lib\\site-packages (from tensorflow!=2.0.*,!=2.1.*,!=2.2.*,!=2.3.*,!=2.4.*,!=2.5.*,!=2.6.*,<2.8,>=1.15.2->tfx) (1.1.0)\n",
      "Requirement already satisfied: tensorboard-plugin-wit>=1.6.0 in c:\\users\\cmmt8\\miniconda3\\envs\\mlep-w1-lab\\lib\\site-packages (from tensorboard->keras-tuner<2,>=1.0.4->tfx) (1.8.0)\n",
      "Requirement already satisfied: markdown>=2.6.8 in c:\\users\\cmmt8\\miniconda3\\envs\\mlep-w1-lab\\lib\\site-packages (from tensorboard->keras-tuner<2,>=1.0.4->tfx) (3.3.6)\n",
      "Requirement already satisfied: werkzeug>=0.11.15 in c:\\users\\cmmt8\\miniconda3\\envs\\mlep-w1-lab\\lib\\site-packages (from tensorboard->keras-tuner<2,>=1.0.4->tfx) (2.0.2)\n",
      "Requirement already satisfied: google-auth-oauthlib<0.5,>=0.4.1 in c:\\users\\cmmt8\\miniconda3\\envs\\mlep-w1-lab\\lib\\site-packages (from tensorboard->keras-tuner<2,>=1.0.4->tfx) (0.4.6)\n",
      "Requirement already satisfied: tensorboard-data-server<0.7.0,>=0.6.0 in c:\\users\\cmmt8\\miniconda3\\envs\\mlep-w1-lab\\lib\\site-packages (from tensorboard->keras-tuner<2,>=1.0.4->tfx) (0.6.1)\n",
      "Requirement already satisfied: importlib-metadata>=4.4 in c:\\users\\cmmt8\\miniconda3\\envs\\mlep-w1-lab\\lib\\site-packages (from markdown>=2.6.8->tensorboard->keras-tuner<2,>=1.0.4->tfx) (4.8.2)\n",
      "Requirement already satisfied: zipp>=0.5 in c:\\users\\cmmt8\\miniconda3\\envs\\mlep-w1-lab\\lib\\site-packages (from importlib-metadata>=4.4->markdown>=2.6.8->tensorboard->keras-tuner<2,>=1.0.4->tfx) (3.6.0)\n",
      "Requirement already satisfied: oauthlib>=3.0.0 in c:\\users\\cmmt8\\miniconda3\\envs\\mlep-w1-lab\\lib\\site-packages (from requests-oauthlib->kubernetes<13,>=10.0.1->tfx) (3.1.1)\n",
      "Requirement already satisfied: tensorflow-metadata<1.6.0,>=1.5.0 in c:\\users\\cmmt8\\miniconda3\\envs\\mlep-w1-lab\\lib\\site-packages (from tensorflow-data-validation<1.6.0,>=1.5.0->tfx) (1.5.0)\n",
      "Requirement already satisfied: joblib<0.15,>=0.12 in c:\\users\\cmmt8\\miniconda3\\envs\\mlep-w1-lab\\lib\\site-packages (from tensorflow-data-validation<1.6.0,>=1.5.0->tfx) (0.14.1)\n",
      "Requirement already satisfied: pandas<2,>=1.0 in c:\\users\\cmmt8\\miniconda3\\envs\\mlep-w1-lab\\lib\\site-packages (from tensorflow-data-validation<1.6.0,>=1.5.0->tfx) (1.3.5)\n",
      "Collecting ipywidgets<8,>=7\n",
      "  Using cached ipywidgets-7.6.5-py2.py3-none-any.whl (121 kB)\n",
      "Requirement already satisfied: decorator in c:\\users\\cmmt8\\miniconda3\\envs\\mlep-w1-lab\\lib\\site-packages (from ipython->keras-tuner<2,>=1.0.4->tfx) (5.1.0)\n",
      "Requirement already satisfied: pygments in c:\\users\\cmmt8\\miniconda3\\envs\\mlep-w1-lab\\lib\\site-packages (from ipython->keras-tuner<2,>=1.0.4->tfx) (2.10.0)\n",
      "Requirement already satisfied: backcall in c:\\users\\cmmt8\\miniconda3\\envs\\mlep-w1-lab\\lib\\site-packages (from ipython->keras-tuner<2,>=1.0.4->tfx) (0.2.0)\n",
      "Requirement already satisfied: matplotlib-inline in c:\\users\\cmmt8\\miniconda3\\envs\\mlep-w1-lab\\lib\\site-packages (from ipython->keras-tuner<2,>=1.0.4->tfx) (0.1.3)\n",
      "Requirement already satisfied: traitlets>=4.2 in c:\\users\\cmmt8\\miniconda3\\envs\\mlep-w1-lab\\lib\\site-packages (from ipython->keras-tuner<2,>=1.0.4->tfx) (5.1.1)\n",
      "Requirement already satisfied: pickleshare in c:\\users\\cmmt8\\miniconda3\\envs\\mlep-w1-lab\\lib\\site-packages (from ipython->keras-tuner<2,>=1.0.4->tfx) (0.7.5)\n",
      "Requirement already satisfied: jedi>=0.16 in c:\\users\\cmmt8\\miniconda3\\envs\\mlep-w1-lab\\lib\\site-packages (from ipython->keras-tuner<2,>=1.0.4->tfx) (0.18.1)\n",
      "Requirement already satisfied: prompt-toolkit!=3.0.0,!=3.0.1,<3.1.0,>=2.0.0 in c:\\users\\cmmt8\\miniconda3\\envs\\mlep-w1-lab\\lib\\site-packages (from ipython->keras-tuner<2,>=1.0.4->tfx) (3.0.23)\n",
      "Requirement already satisfied: colorama in c:\\users\\cmmt8\\miniconda3\\envs\\mlep-w1-lab\\lib\\site-packages (from ipython->keras-tuner<2,>=1.0.4->tfx) (0.4.4)\n",
      "Collecting jupyterlab-widgets>=1.0.0\n",
      "  Using cached jupyterlab_widgets-1.0.2-py3-none-any.whl (243 kB)\n",
      "Requirement already satisfied: nbformat>=4.2.0 in c:\\users\\cmmt8\\miniconda3\\envs\\mlep-w1-lab\\lib\\site-packages (from ipywidgets<8,>=7->tensorflow-model-analysis<0.37,>=0.36.0->tfx) (5.1.3)\n",
      "Collecting widgetsnbextension~=3.5.0\n",
      "  Using cached widgetsnbextension-3.5.2-py2.py3-none-any.whl (1.6 MB)\n",
      "Requirement already satisfied: ipython-genutils~=0.2.0 in c:\\users\\cmmt8\\miniconda3\\envs\\mlep-w1-lab\\lib\\site-packages (from ipywidgets<8,>=7->tensorflow-model-analysis<0.37,>=0.36.0->tfx) (0.2.0)\n",
      "Requirement already satisfied: ipykernel>=4.5.1 in c:\\users\\cmmt8\\miniconda3\\envs\\mlep-w1-lab\\lib\\site-packages (from ipywidgets<8,>=7->tensorflow-model-analysis<0.37,>=0.36.0->tfx) (6.6.0)\n",
      "Requirement already satisfied: tornado<7.0,>=4.2 in c:\\users\\cmmt8\\miniconda3\\envs\\mlep-w1-lab\\lib\\site-packages (from ipykernel>=4.5.1->ipywidgets<8,>=7->tensorflow-model-analysis<0.37,>=0.36.0->tfx) (6.1)\n",
      "Requirement already satisfied: debugpy<2.0,>=1.0.0 in c:\\users\\cmmt8\\miniconda3\\envs\\mlep-w1-lab\\lib\\site-packages (from ipykernel>=4.5.1->ipywidgets<8,>=7->tensorflow-model-analysis<0.37,>=0.36.0->tfx) (1.5.1)\n",
      "Requirement already satisfied: argcomplete>=1.12.3 in c:\\users\\cmmt8\\miniconda3\\envs\\mlep-w1-lab\\lib\\site-packages (from ipykernel>=4.5.1->ipywidgets<8,>=7->tensorflow-model-analysis<0.37,>=0.36.0->tfx) (1.12.3)\n",
      "Requirement already satisfied: jupyter-client<8.0 in c:\\users\\cmmt8\\miniconda3\\envs\\mlep-w1-lab\\lib\\site-packages (from ipykernel>=4.5.1->ipywidgets<8,>=7->tensorflow-model-analysis<0.37,>=0.36.0->tfx) (7.1.0)\n",
      "Requirement already satisfied: parso<0.9.0,>=0.8.0 in c:\\users\\cmmt8\\miniconda3\\envs\\mlep-w1-lab\\lib\\site-packages (from jedi>=0.16->ipython->keras-tuner<2,>=1.0.4->tfx) (0.8.3)\n",
      "Requirement already satisfied: pyzmq>=13 in c:\\users\\cmmt8\\miniconda3\\envs\\mlep-w1-lab\\lib\\site-packages (from jupyter-client<8.0->ipykernel>=4.5.1->ipywidgets<8,>=7->tensorflow-model-analysis<0.37,>=0.36.0->tfx) (22.3.0)\n",
      "Requirement already satisfied: nest-asyncio>=1.5 in c:\\users\\cmmt8\\miniconda3\\envs\\mlep-w1-lab\\lib\\site-packages (from jupyter-client<8.0->ipykernel>=4.5.1->ipywidgets<8,>=7->tensorflow-model-analysis<0.37,>=0.36.0->tfx) (1.5.1)\n",
      "Requirement already satisfied: entrypoints in c:\\users\\cmmt8\\miniconda3\\envs\\mlep-w1-lab\\lib\\site-packages (from jupyter-client<8.0->ipykernel>=4.5.1->ipywidgets<8,>=7->tensorflow-model-analysis<0.37,>=0.36.0->tfx) (0.3)\n",
      "Requirement already satisfied: jupyter-core>=4.6.0 in c:\\users\\cmmt8\\miniconda3\\envs\\mlep-w1-lab\\lib\\site-packages (from jupyter-client<8.0->ipykernel>=4.5.1->ipywidgets<8,>=7->tensorflow-model-analysis<0.37,>=0.36.0->tfx) (4.9.1)\n",
      "Requirement already satisfied: jsonschema!=2.5.0,>=2.4 in c:\\users\\cmmt8\\miniconda3\\envs\\mlep-w1-lab\\lib\\site-packages (from nbformat>=4.2.0->ipywidgets<8,>=7->tensorflow-model-analysis<0.37,>=0.36.0->tfx) (4.2.1)\n",
      "Requirement already satisfied: importlib-resources>=1.4.0 in c:\\users\\cmmt8\\miniconda3\\envs\\mlep-w1-lab\\lib\\site-packages (from jsonschema!=2.5.0,>=2.4->nbformat>=4.2.0->ipywidgets<8,>=7->tensorflow-model-analysis<0.37,>=0.36.0->tfx) (5.4.0)\n",
      "Requirement already satisfied: pyrsistent!=0.17.0,!=0.17.1,!=0.17.2,>=0.14.0 in c:\\users\\cmmt8\\miniconda3\\envs\\mlep-w1-lab\\lib\\site-packages (from jsonschema!=2.5.0,>=2.4->nbformat>=4.2.0->ipywidgets<8,>=7->tensorflow-model-analysis<0.37,>=0.36.0->tfx) (0.18.0)\n",
      "Requirement already satisfied: wcwidth in c:\\users\\cmmt8\\miniconda3\\envs\\mlep-w1-lab\\lib\\site-packages (from prompt-toolkit!=3.0.0,!=3.0.1,<3.1.0,>=2.0.0->ipython->keras-tuner<2,>=1.0.4->tfx) (0.2.5)\n",
      "Requirement already satisfied: mypy-extensions>=0.3.0 in c:\\users\\cmmt8\\miniconda3\\envs\\mlep-w1-lab\\lib\\site-packages (from typing-inspect>=0.4.0->libcst>=0.2.5->google-cloud-bigquery-storage>=2.6.3->apache-beam[gcp]<3,>=2.34->tfx) (0.4.3)\n",
      "Requirement already satisfied: notebook>=4.4.1 in c:\\users\\cmmt8\\miniconda3\\envs\\mlep-w1-lab\\lib\\site-packages (from widgetsnbextension~=3.5.0->ipywidgets<8,>=7->tensorflow-model-analysis<0.37,>=0.36.0->tfx) (6.4.6)\n",
      "Requirement already satisfied: Send2Trash>=1.8.0 in c:\\users\\cmmt8\\miniconda3\\envs\\mlep-w1-lab\\lib\\site-packages (from notebook>=4.4.1->widgetsnbextension~=3.5.0->ipywidgets<8,>=7->tensorflow-model-analysis<0.37,>=0.36.0->tfx) (1.8.0)\n",
      "Requirement already satisfied: terminado>=0.8.3 in c:\\users\\cmmt8\\miniconda3\\envs\\mlep-w1-lab\\lib\\site-packages (from notebook>=4.4.1->widgetsnbextension~=3.5.0->ipywidgets<8,>=7->tensorflow-model-analysis<0.37,>=0.36.0->tfx) (0.12.1)\n",
      "Requirement already satisfied: nbconvert in c:\\users\\cmmt8\\miniconda3\\envs\\mlep-w1-lab\\lib\\site-packages (from notebook>=4.4.1->widgetsnbextension~=3.5.0->ipywidgets<8,>=7->tensorflow-model-analysis<0.37,>=0.36.0->tfx) (6.3.0)\n",
      "Requirement already satisfied: argon2-cffi in c:\\users\\cmmt8\\miniconda3\\envs\\mlep-w1-lab\\lib\\site-packages (from notebook>=4.4.1->widgetsnbextension~=3.5.0->ipywidgets<8,>=7->tensorflow-model-analysis<0.37,>=0.36.0->tfx) (21.1.0)\n",
      "Requirement already satisfied: prometheus-client in c:\\users\\cmmt8\\miniconda3\\envs\\mlep-w1-lab\\lib\\site-packages (from notebook>=4.4.1->widgetsnbextension~=3.5.0->ipywidgets<8,>=7->tensorflow-model-analysis<0.37,>=0.36.0->tfx) (0.12.0)\n",
      "Requirement already satisfied: pywinpty>=1.1.0 in c:\\users\\cmmt8\\miniconda3\\envs\\mlep-w1-lab\\lib\\site-packages (from terminado>=0.8.3->notebook>=4.4.1->widgetsnbextension~=3.5.0->ipywidgets<8,>=7->tensorflow-model-analysis<0.37,>=0.36.0->tfx) (1.1.6)\n",
      "Requirement already satisfied: cffi>=1.0.0 in c:\\users\\cmmt8\\miniconda3\\envs\\mlep-w1-lab\\lib\\site-packages (from argon2-cffi->notebook>=4.4.1->widgetsnbextension~=3.5.0->ipywidgets<8,>=7->tensorflow-model-analysis<0.37,>=0.36.0->tfx) (1.15.0)\n",
      "Requirement already satisfied: pycparser in c:\\users\\cmmt8\\miniconda3\\envs\\mlep-w1-lab\\lib\\site-packages (from cffi>=1.0.0->argon2-cffi->notebook>=4.4.1->widgetsnbextension~=3.5.0->ipywidgets<8,>=7->tensorflow-model-analysis<0.37,>=0.36.0->tfx) (2.21)\n",
      "Requirement already satisfied: jupyterlab-pygments in c:\\users\\cmmt8\\miniconda3\\envs\\mlep-w1-lab\\lib\\site-packages (from nbconvert->notebook>=4.4.1->widgetsnbextension~=3.5.0->ipywidgets<8,>=7->tensorflow-model-analysis<0.37,>=0.36.0->tfx) (0.1.2)\n",
      "Requirement already satisfied: testpath in c:\\users\\cmmt8\\miniconda3\\envs\\mlep-w1-lab\\lib\\site-packages (from nbconvert->notebook>=4.4.1->widgetsnbextension~=3.5.0->ipywidgets<8,>=7->tensorflow-model-analysis<0.37,>=0.36.0->tfx) (0.5.0)\n",
      "Requirement already satisfied: bleach in c:\\users\\cmmt8\\miniconda3\\envs\\mlep-w1-lab\\lib\\site-packages (from nbconvert->notebook>=4.4.1->widgetsnbextension~=3.5.0->ipywidgets<8,>=7->tensorflow-model-analysis<0.37,>=0.36.0->tfx) (4.1.0)\n",
      "Requirement already satisfied: defusedxml in c:\\users\\cmmt8\\miniconda3\\envs\\mlep-w1-lab\\lib\\site-packages (from nbconvert->notebook>=4.4.1->widgetsnbextension~=3.5.0->ipywidgets<8,>=7->tensorflow-model-analysis<0.37,>=0.36.0->tfx) (0.7.1)\n",
      "Requirement already satisfied: pandocfilters>=1.4.1 in c:\\users\\cmmt8\\miniconda3\\envs\\mlep-w1-lab\\lib\\site-packages (from nbconvert->notebook>=4.4.1->widgetsnbextension~=3.5.0->ipywidgets<8,>=7->tensorflow-model-analysis<0.37,>=0.36.0->tfx) (1.5.0)\n",
      "Requirement already satisfied: nbclient<0.6.0,>=0.5.0 in c:\\users\\cmmt8\\miniconda3\\envs\\mlep-w1-lab\\lib\\site-packages (from nbconvert->notebook>=4.4.1->widgetsnbextension~=3.5.0->ipywidgets<8,>=7->tensorflow-model-analysis<0.37,>=0.36.0->tfx) (0.5.9)\n",
      "Requirement already satisfied: mistune<2,>=0.8.1 in c:\\users\\cmmt8\\miniconda3\\envs\\mlep-w1-lab\\lib\\site-packages (from nbconvert->notebook>=4.4.1->widgetsnbextension~=3.5.0->ipywidgets<8,>=7->tensorflow-model-analysis<0.37,>=0.36.0->tfx) (0.8.4)\n",
      "Requirement already satisfied: webencodings in c:\\users\\cmmt8\\miniconda3\\envs\\mlep-w1-lab\\lib\\site-packages (from bleach->nbconvert->notebook>=4.4.1->widgetsnbextension~=3.5.0->ipywidgets<8,>=7->tensorflow-model-analysis<0.37,>=0.36.0->tfx) (0.5.1)\n",
      "Installing collected packages: pywin32, attrs, packaging, pyyaml, widgetsnbextension, psutil, jupyterlab-widgets, portpicker, ml-metadata, kt-legacy, ipywidgets, google-cloud-storage, docker, tensorflow-model-analysis, tensorflow-hub, ml-pipelines-sdk, kubernetes, keras-tuner, google-cloud-aiplatform, tfx\n",
      "Successfully installed attrs-20.3.0 docker-4.4.4 google-cloud-aiplatform-1.8.1 google-cloud-storage-1.43.0 ipywidgets-7.6.5 jupyterlab-widgets-1.0.2 keras-tuner-1.1.0 kt-legacy-1.0.4 kubernetes-12.0.1 ml-metadata-1.5.0 ml-pipelines-sdk-1.5.0 packaging-20.9 portpicker-1.5.0 psutil-5.8.0 pywin32-227 pyyaml-5.4.1 tensorflow-hub-0.12.0 tensorflow-model-analysis-0.36.0 tfx-1.5.0 widgetsnbextension-3.5.2\n",
      "Note: you may need to restart the kernel to use updated packages.\n"
     ]
    },
    {
     "name": "stderr",
     "output_type": "stream",
     "text": [
      "WARNING: Ignoring invalid distribution -ywin32 (c:\\users\\cmmt8\\miniconda3\\envs\\mlep-w1-lab\\lib\\site-packages)\n",
      "WARNING: Ignoring invalid distribution -ywin32 (c:\\users\\cmmt8\\miniconda3\\envs\\mlep-w1-lab\\lib\\site-packages)\n",
      "WARNING: Ignoring invalid distribution -ywin32 (c:\\users\\cmmt8\\miniconda3\\envs\\mlep-w1-lab\\lib\\site-packages)\n",
      "  WARNING: The scripts make_image_classifier.exe and make_nearest_neighbour_index.exe are installed in 'C:\\Users\\cmmt8\\AppData\\Roaming\\Python\\Python37\\Scripts' which is not on PATH.\n",
      "  Consider adding this directory to PATH or, if you prefer to suppress this warning, use --no-warn-script-location.\n",
      "  WARNING: The script tb-gcp-uploader.exe is installed in 'C:\\Users\\cmmt8\\AppData\\Roaming\\Python\\Python37\\Scripts' which is not on PATH.\n",
      "  Consider adding this directory to PATH or, if you prefer to suppress this warning, use --no-warn-script-location.\n",
      "  WARNING: The script tfx.exe is installed in 'C:\\Users\\cmmt8\\AppData\\Roaming\\Python\\Python37\\Scripts' which is not on PATH.\n",
      "  Consider adding this directory to PATH or, if you prefer to suppress this warning, use --no-warn-script-location.\n",
      "WARNING: Ignoring invalid distribution -ywin32 (c:\\users\\cmmt8\\miniconda3\\envs\\mlep-w1-lab\\lib\\site-packages)\n",
      "WARNING: Ignoring invalid distribution -ywin32 (c:\\users\\cmmt8\\miniconda3\\envs\\mlep-w1-lab\\lib\\site-packages)\n",
      "WARNING: Ignoring invalid distribution -ywin32 (c:\\users\\cmmt8\\miniconda3\\envs\\mlep-w1-lab\\lib\\site-packages)\n"
     ]
    }
   ],
   "source": [
    "pip install --user tfx"
   ]
  },
  {
   "cell_type": "code",
   "execution_count": 1,
   "metadata": {
    "id": "YIqpWK9efviJ"
   },
   "outputs": [],
   "source": [
    "import tensorflow as tf\n",
    "\n",
    "from tfx import v1 as tfx\n",
    "\n",
    "from tfx.orchestration.experimental.interactive.interactive_context import InteractiveContext\n",
    "from google.protobuf.json_format import MessageToDict\n",
    "\n",
    "import os\n",
    "import pprint\n",
    "pp = pprint.PrettyPrinter()"
   ]
  },
  {
   "cell_type": "markdown",
   "metadata": {},
   "source": [
    "### Define paths\n",
    "\n",
    "You will define a few global variables to indicate paths in the local workspace."
   ]
  },
  {
   "cell_type": "code",
   "execution_count": 2,
   "metadata": {},
   "outputs": [
    {
     "data": {
      "text/plain": [
       "'c:\\\\Users\\\\cmmt8\\\\OneDrive\\\\Documents\\\\Chandramauli\\\\Personal Projects\\\\Development\\\\machine-learning-engineering-for-production-public\\\\course2\\\\week2-ungraded-lab'"
      ]
     },
     "execution_count": 2,
     "metadata": {},
     "output_type": "execute_result"
    }
   ],
   "source": [
    "pwd"
   ]
  },
  {
   "cell_type": "code",
   "execution_count": 3,
   "metadata": {},
   "outputs": [],
   "source": [
    "# location of the pipeline metadata store\n",
    "_pipeline_root = './pipeline/'\n",
    "\n",
    "# directory of the raw data files\n",
    "_data_root = './data/census_data'\n",
    "\n",
    "# path to the raw training data\n",
    "_data_filepath = os.path.join(_data_root, 'adult.data')"
   ]
  },
  {
   "cell_type": "markdown",
   "metadata": {
    "id": "n2cMMAbSkGfX"
   },
   "source": [
    "### Preview the  dataset\n",
    "\n",
    "You will again be using the [Census Income dataset](https://archive.ics.uci.edu/ml/datasets/Adult) from the Week 1 ungraded lab so you can compare outputs when just using stand-alone TFDV and when using it under TFX. Just to remind, the data can be used to predict if an individual earns more than or less than 50k US Dollars annually. Here is the description of the features again: \n",
    "\n",
    "\n",
    "* **age**: continuous.\n",
    "* **workclass**: Private, Self-emp-not-inc, Self-emp-inc, Federal-gov, Local-gov, State-gov, Without-pay, Never-worked.\n",
    "* **fnlwgt**: continuous.\n",
    "* **education**: Bachelors, Some-college, 11th, HS-grad, Prof-school, Assoc-acdm, Assoc-voc, 9th, 7th-8th, 12th, Masters, 1st-4th, 10th, Doctorate, 5th-6th, Preschool.\n",
    "* **education-num**: continuous.\n",
    "* **marital-status**: Married-civ-spouse, Divorced, Never-married, Separated, Widowed, Married-spouse-absent, Married-AF-spouse.\n",
    "* **occupation**: Tech-support, Craft-repair, Other-service, Sales, Exec-managerial, Prof-specialty, Handlers-cleaners, Machine-op-inspct, Adm-clerical, Farming-fishing, Transport-moving, Priv-house-serv, Protective-serv, Armed-Forces.\n",
    "* **relationship**: Wife, Own-child, Husband, Not-in-family, Other-relative, Unmarried.\n",
    "* **race**: White, Asian-Pac-Islander, Amer-Indian-Eskimo, Other, Black.\n",
    "* **sex**: Female, Male.\n",
    "* **capital-gain**: continuous.\n",
    "* **capital-loss**: continuous.\n",
    "* **hours-per-week**: continuous.\n",
    "* **native-country**: United-States, Cambodia, England, Puerto-Rico, Canada, Germany, Outlying-US(Guam-USVI-etc), India, Japan, Greece, South, China, Cuba, Iran, Honduras, Philippines, Italy, Poland, Jamaica, Vietnam, Mexico, Portugal, Ireland, France, Dominican-Republic, Laos, Ecuador, Taiwan, Haiti, Columbia, Hungary, Guatemala, Nicaragua, Scotland, Thailand, Yugoslavia, El-Salvador, Trinadad&Tobago, Peru, Hong, Holand-Netherlands."
   ]
  },
  {
   "cell_type": "code",
   "execution_count": 6,
   "metadata": {},
   "outputs": [
    {
     "name": "stdout",
     "output_type": "stream",
     "text": [
      "Collecting package metadata (current_repodata.json): ...working... done\n",
      "Solving environment: ...working... done\n",
      "\n",
      "## Package Plan ##\n",
      "\n",
      "  environment location: C:\\Users\\cmmt8\\miniconda3\\envs\\mlep-w1-lab\n",
      "\n",
      "  added / updated specs:\n",
      "    - posix\n",
      "\n",
      "\n",
      "The following packages will be downloaded:\n",
      "\n",
      "    package                    |            build\n",
      "    ---------------------------|-----------------\n",
      "    m2-base-1.0.0              |                3         178 KB\n",
      "    m2-bash-4.3.042            |                5         3.5 MB\n",
      "    m2-bash-completion-2.3     |                2         187 KB\n",
      "    m2-catgets-1.1             |                3          26 KB\n",
      "    m2-coreutils-8.25          |              102         4.7 MB\n",
      "    m2-dash-0.5.8              |                2          94 KB\n",
      "    m2-diffutils-3.3           |                4         343 KB\n",
      "    m2-file-5.25               |                2         792 KB\n",
      "    m2-filesystem-2016.04      |                4          26 KB\n",
      "    m2-findutils-4.6.0         |                2         635 KB\n",
      "    m2-gawk-4.1.3              |                2         1.5 MB\n",
      "    m2-gcc-libs-5.3.0          |                4        1021 KB\n",
      "    m2-gettext-0.19.7          |                4         2.0 MB\n",
      "    m2-gmp-6.1.0               |                3         407 KB\n",
      "    m2-grep-2.22               |                4         259 KB\n",
      "    m2-gzip-1.7                |                2         102 KB\n",
      "    m2-inetutils-1.9.2         |                2         309 KB\n",
      "    m2-info-6.0                |                2         237 KB\n",
      "    m2-less-481                |                2         105 KB\n",
      "    m2-libasprintf-0.19.7      |                4           6 KB\n",
      "    m2-libbz2-1.0.6            |                3          31 KB\n",
      "    m2-libcatgets-1.1          |                3           7 KB\n",
      "    m2-libcrypt-1.3            |                2           7 KB\n",
      "    m2-libgettextpo-0.19.7     |                4         124 KB\n",
      "    m2-libiconv-1.14           |                3         716 KB\n",
      "    m2-libintl-0.19.7          |                4          22 KB\n",
      "    m2-liblzma-5.2.2           |                2          78 KB\n",
      "    m2-libpcre-8.38            |                2          98 KB\n",
      "    m2-libreadline-6.3.008     |                8         275 KB\n",
      "    m2-libutil-linux-2.26.2    |                2         224 KB\n",
      "    m2-libxml2-2.9.2           |                3         562 KB\n",
      "\n",
      "Note: you may need to restart the kernel to use updated packages.    m2-make-4.1                |                5         454 KB\n",
      "    m2-mintty-1!2.2.3          |                2         170 KB\n",
      "    m2-mpfr-3.1.4              |                2         254 KB\n",
      "    m2-msys2-launcher-git-0.3.28.860c495|                2          27 KB\n",
      "    m2-msys2-runtime-2.5.0.17080.65c939c|                3         3.0 MB\n",
      "    m2-ncurses-6.0.20160220    |                2         1.4 MB\n",
      "    m2-sed-4.2.2               |                3         846 KB\n",
      "    m2-tar-1.28                |                4         838 KB\n",
      "    m2-tftp-hpa-5.2            |                2          21 KB\n",
      "    m2-time-1.7                |                2          18 KB\n",
      "    m2-ttyrec-1.0.8            |                2          13 KB\n",
      "    m2-tzcode-2015.e           |                2         379 KB\n",
      "    m2-unzip-6.0               |                3         132 KB\n",
      "    m2-util-linux-2.26.2       |                2         1.7 MB\n",
      "    m2-which-2.21              |                3          21 KB\n",
      "    m2-zip-3.0                 |                2         186 KB\n",
      "    m2-zlib-1.2.8              |                4          51 KB\n",
      "    msys2-conda-epoch-20160418 |                1           2 KB\n",
      "    posix-1.0.0                |                2           2 KB\n",
      "    ------------------------------------------------------------\n",
      "                                           Total:        27.8 MB\n",
      "\n",
      "The following NEW packages will be INSTALLED:\n",
      "\n",
      "  m2-base            pkgs/msys2/win-64::m2-base-1.0.0-3\n",
      "  m2-bash            pkgs/msys2/win-64::m2-bash-4.3.042-5\n",
      "  m2-bash-completion pkgs/msys2/win-64::m2-bash-completion-2.3-2\n",
      "  m2-catgets         pkgs/msys2/win-64::m2-catgets-1.1-3\n",
      "  m2-coreutils       pkgs/msys2/win-64::m2-coreutils-8.25-102\n",
      "  m2-dash            pkgs/msys2/win-64::m2-dash-0.5.8-2\n",
      "  m2-diffutils       pkgs/msys2/win-64::m2-diffutils-3.3-4\n",
      "  m2-file            pkgs/msys2/win-64::m2-file-5.25-2\n",
      "  m2-filesystem      pkgs/msys2/win-64::m2-filesystem-2016.04-4\n",
      "  m2-findutils       pkgs/msys2/win-64::m2-findutils-4.6.0-2\n",
      "  m2-gawk            pkgs/msys2/win-64::m2-gawk-4.1.3-2\n",
      "  m2-gcc-libs        pkgs/msys2/win-64::m2-gcc-libs-5.3.0-4\n",
      "  m2-gettext         pkgs/msys2/win-64::m2-gettext-0.19.7-4\n",
      "  m2-gmp             pkgs/msys2/win-64::m2-gmp-6.1.0-3\n",
      "  m2-grep            pkgs/msys2/win-64::m2-grep-2.22-4\n",
      "  m2-gzip            pkgs/msys2/win-64::m2-gzip-1.7-2\n",
      "  m2-inetutils       pkgs/msys2/win-64::m2-inetutils-1.9.2-2\n",
      "  m2-info            pkgs/msys2/win-64::m2-info-6.0-2\n",
      "  m2-less            pkgs/msys2/win-64::m2-less-481-2\n",
      "\n"
     ]
    },
    {
     "name": "stderr",
     "output_type": "stream",
     "text": [
      "\n",
      "\n",
      "==> WARNING: A newer version of conda exists. <==\n",
      "  current version: 4.10.3\n",
      "  latest version: 4.11.0\n",
      "\n",
      "Please update conda by running\n",
      "\n",
      "    $ conda update -n base -c defaults conda\n",
      "\n",
      "\n"
     ]
    },
    {
     "name": "stdout",
     "output_type": "stream",
     "text": [
      "  m2-libasprintf     pkgs/msys2/win-64::m2-libasprintf-0.19.7-4\n",
      "  m2-libbz2          pkgs/msys2/win-64::m2-libbz2-1.0.6-3\n",
      "  m2-libcatgets      pkgs/msys2/win-64::m2-libcatgets-1.1-3\n",
      "  m2-libcrypt        pkgs/msys2/win-64::m2-libcrypt-1.3-2\n",
      "  m2-libgettextpo    pkgs/msys2/win-64::m2-libgettextpo-0.19.7-4\n",
      "  m2-libiconv        pkgs/msys2/win-64::m2-libiconv-1.14-3\n",
      "  m2-libintl         pkgs/msys2/win-64::m2-libintl-0.19.7-4\n",
      "  m2-liblzma         pkgs/msys2/win-64::m2-liblzma-5.2.2-2\n",
      "  m2-libpcre         pkgs/msys2/win-64::m2-libpcre-8.38-2\n",
      "  m2-libreadline     pkgs/msys2/win-64::m2-libreadline-6.3.008-8\n",
      "  m2-libutil-linux   pkgs/msys2/win-64::m2-libutil-linux-2.26.2-2\n",
      "  m2-libxml2         pkgs/msys2/win-64::m2-libxml2-2.9.2-3\n",
      "  m2-make            pkgs/msys2/win-64::m2-make-4.1-5\n",
      "  m2-mintty          pkgs/msys2/win-64::m2-mintty-1!2.2.3-2\n",
      "  m2-mpfr            pkgs/msys2/win-64::m2-mpfr-3.1.4-2\n",
      "  m2-msys2-launcher~ pkgs/msys2/win-64::m2-msys2-launcher-git-0.3.28.860c495-2\n",
      "  m2-msys2-runtime   pkgs/msys2/win-64::m2-msys2-runtime-2.5.0.17080.65c939c-3\n",
      "  m2-ncurses         pkgs/msys2/win-64::m2-ncurses-6.0.20160220-2\n",
      "  m2-sed             pkgs/msys2/win-64::m2-sed-4.2.2-3\n",
      "  m2-tar             pkgs/msys2/win-64::m2-tar-1.28-4\n",
      "  m2-tftp-hpa        pkgs/msys2/win-64::m2-tftp-hpa-5.2-2\n",
      "  m2-time            pkgs/msys2/win-64::m2-time-1.7-2\n",
      "  m2-ttyrec          pkgs/msys2/win-64::m2-ttyrec-1.0.8-2\n",
      "  m2-tzcode          pkgs/msys2/win-64::m2-tzcode-2015.e-2\n",
      "  m2-unzip           pkgs/msys2/win-64::m2-unzip-6.0-3\n",
      "  m2-util-linux      pkgs/msys2/win-64::m2-util-linux-2.26.2-2\n",
      "  m2-which           pkgs/msys2/win-64::m2-which-2.21-3\n",
      "  m2-zip             pkgs/msys2/win-64::m2-zip-3.0-2\n",
      "  m2-zlib            pkgs/msys2/win-64::m2-zlib-1.2.8-4\n",
      "  msys2-conda-epoch  pkgs/msys2/win-64::msys2-conda-epoch-20160418-1\n",
      "  posix              pkgs/msys2/win-64::posix-1.0.0-2\n",
      "\n",
      "\n",
      "\n",
      "Downloading and Extracting Packages\n",
      "\n",
      "m2-sed-4.2.2         | 846 KB    |            |   0% \n",
      "m2-sed-4.2.2         | 846 KB    | 1          |   2% \n",
      "m2-sed-4.2.2         | 846 KB    | #########  |  91% \n",
      "m2-sed-4.2.2         | 846 KB    | ########## | 100% \n",
      "\n",
      "m2-libcatgets-1.1    | 7 KB      |            |   0% \n",
      "m2-libcatgets-1.1    | 7 KB      | ########## | 100% \n",
      "m2-libcatgets-1.1    | 7 KB      | ########## | 100% \n",
      "\n",
      "m2-util-linux-2.26.2 | 1.7 MB    |            |   0% \n",
      "m2-util-linux-2.26.2 | 1.7 MB    |            |   1% \n",
      "m2-util-linux-2.26.2 | 1.7 MB    | #6         |  17% \n",
      "m2-util-linux-2.26.2 | 1.7 MB    | #####2     |  53% \n",
      "m2-util-linux-2.26.2 | 1.7 MB    | ########## | 100% \n",
      "m2-util-linux-2.26.2 | 1.7 MB    | ########## | 100% \n",
      "\n",
      "m2-grep-2.22         | 259 KB    |            |   0% \n",
      "m2-grep-2.22         | 259 KB    | 6          |   6% \n",
      "m2-grep-2.22         | 259 KB    | ########## | 100% \n",
      "m2-grep-2.22         | 259 KB    | ########## | 100% \n",
      "\n",
      "m2-libxml2-2.9.2     | 562 KB    |            |   0% \n",
      "m2-libxml2-2.9.2     | 562 KB    | 2          |   3% \n",
      "m2-libxml2-2.9.2     | 562 KB    | ##8        |  28% \n",
      "m2-libxml2-2.9.2     | 562 KB    | ########## | 100% \n",
      "m2-libxml2-2.9.2     | 562 KB    | ########## | 100% \n",
      "\n",
      "m2-ncurses-6.0.20160 | 1.4 MB    |            |   0% \n",
      "m2-ncurses-6.0.20160 | 1.4 MB    | 1          |   1% \n",
      "m2-ncurses-6.0.20160 | 1.4 MB    | 4          |   4% \n",
      "m2-ncurses-6.0.20160 | 1.4 MB    | 6          |   7% \n",
      "m2-ncurses-6.0.20160 | 1.4 MB    | ###        |  31% \n",
      "m2-ncurses-6.0.20160 | 1.4 MB    | ###8       |  38% \n",
      "m2-ncurses-6.0.20160 | 1.4 MB    | #####6     |  56% \n",
      "m2-ncurses-6.0.20160 | 1.4 MB    | ######4    |  65% \n",
      "m2-ncurses-6.0.20160 | 1.4 MB    | #######2   |  72% \n",
      "m2-ncurses-6.0.20160 | 1.4 MB    | #######9   |  79% \n",
      "m2-ncurses-6.0.20160 | 1.4 MB    | ########4  |  85% \n",
      "m2-ncurses-6.0.20160 | 1.4 MB    | #########  |  90% \n",
      "m2-ncurses-6.0.20160 | 1.4 MB    | #########5 |  96% \n",
      "m2-ncurses-6.0.20160 | 1.4 MB    | ########## | 100% \n",
      "\n",
      "m2-inetutils-1.9.2   | 309 KB    |            |   0% \n",
      "m2-inetutils-1.9.2   | 309 KB    | 5          |   5% \n",
      "m2-inetutils-1.9.2   | 309 KB    | ######7    |  67% \n",
      "m2-inetutils-1.9.2   | 309 KB    | ########## | 100% \n",
      "\n",
      "m2-make-4.1          | 454 KB    |            |   0% \n",
      "m2-make-4.1          | 454 KB    | 3          |   4% \n",
      "m2-make-4.1          | 454 KB    | #######    |  71% \n",
      "m2-make-4.1          | 454 KB    | ########## | 100% \n",
      "\n",
      "m2-libutil-linux-2.2 | 224 KB    |            |   0% \n",
      "m2-libutil-linux-2.2 | 224 KB    | 7          |   7% \n",
      "m2-libutil-linux-2.2 | 224 KB    | ########## | 100% \n",
      "m2-libutil-linux-2.2 | 224 KB    | ########## | 100% \n",
      "\n",
      "m2-libintl-0.19.7    | 22 KB     |            |   0% \n",
      "m2-libintl-0.19.7    | 22 KB     | ########## | 100% \n",
      "\n",
      "m2-gettext-0.19.7    | 2.0 MB    |            |   0% \n",
      "m2-gettext-0.19.7    | 2.0 MB    |            |   1% \n",
      "m2-gettext-0.19.7    | 2.0 MB    | ##1        |  22% \n",
      "m2-gettext-0.19.7    | 2.0 MB    | #####2     |  53% \n",
      "m2-gettext-0.19.7    | 2.0 MB    | ########8  |  89% \n",
      "m2-gettext-0.19.7    | 2.0 MB    | ########## | 100% \n",
      "\n",
      "m2-tar-1.28          | 838 KB    |            |   0% \n",
      "m2-tar-1.28          | 838 KB    | 1          |   2% \n",
      "m2-tar-1.28          | 838 KB    | ########## | 100% \n",
      "m2-tar-1.28          | 838 KB    | ########## | 100% \n",
      "\n",
      "m2-file-5.25         | 792 KB    |            |   0% \n",
      "m2-file-5.25         | 792 KB    | 2          |   2% \n",
      "m2-file-5.25         | 792 KB    | ########## | 100% \n",
      "m2-file-5.25         | 792 KB    | ########## | 100% \n",
      "\n",
      "m2-liblzma-5.2.2     | 78 KB     |            |   0% \n",
      "m2-liblzma-5.2.2     | 78 KB     | ##         |  20% \n",
      "m2-liblzma-5.2.2     | 78 KB     | ########## | 100% \n",
      "\n",
      "posix-1.0.0          | 2 KB      |            |   0% \n",
      "posix-1.0.0          | 2 KB      | ########## | 100% \n",
      "posix-1.0.0          | 2 KB      | ########## | 100% \n",
      "\n",
      "m2-msys2-launcher-gi | 27 KB     |            |   0% \n",
      "m2-msys2-launcher-gi | 27 KB     | #####8     |  59% \n",
      "m2-msys2-launcher-gi | 27 KB     | ########## | 100% \n",
      "\n",
      "m2-bash-4.3.042      | 3.5 MB    |            |   0% \n",
      "m2-bash-4.3.042      | 3.5 MB    | #2         |  12% \n",
      "m2-bash-4.3.042      | 3.5 MB    | ##3        |  23% \n",
      "m2-bash-4.3.042      | 3.5 MB    | ###6       |  36% \n",
      "m2-bash-4.3.042      | 3.5 MB    | #####2     |  52% \n",
      "m2-bash-4.3.042      | 3.5 MB    | #######4   |  75% \n",
      "m2-bash-4.3.042      | 3.5 MB    | ########9  |  90% \n",
      "m2-bash-4.3.042      | 3.5 MB    | ########## | 100% \n",
      "\n",
      "m2-which-2.21        | 21 KB     |            |   0% \n",
      "m2-which-2.21        | 21 KB     | #######4   |  75% \n",
      "m2-which-2.21        | 21 KB     | ########## | 100% \n",
      "\n",
      "m2-libbz2-1.0.6      | 31 KB     |            |   0% \n",
      "m2-libbz2-1.0.6      | 31 KB     | #####1     |  51% \n",
      "m2-libbz2-1.0.6      | 31 KB     | ########## | 100% \n",
      "\n",
      "m2-msys2-runtime-2.5 | 3.0 MB    |            |   0% \n",
      "m2-msys2-runtime-2.5 | 3.0 MB    | #9         |  19% \n",
      "m2-msys2-runtime-2.5 | 3.0 MB    | ####8      |  49% \n",
      "m2-msys2-runtime-2.5 | 3.0 MB    | #######5   |  75% \n",
      "m2-msys2-runtime-2.5 | 3.0 MB    | ########## | 100% \n",
      "\n",
      "m2-info-6.0          | 237 KB    |            |   0% \n",
      "m2-info-6.0          | 237 KB    | 6          |   7% \n",
      "m2-info-6.0          | 237 KB    | ########## | 100% \n",
      "\n",
      "m2-time-1.7          | 18 KB     |            |   0% \n",
      "m2-time-1.7          | 18 KB     | #########  |  90% \n",
      "m2-time-1.7          | 18 KB     | ########## | 100% \n",
      "\n",
      "m2-libpcre-8.38      | 98 KB     |            |   0% \n",
      "m2-libpcre-8.38      | 98 KB     | #6         |  16% \n",
      "m2-libpcre-8.38      | 98 KB     | ########## | 100% \n",
      "\n",
      "m2-tzcode-2015.e     | 379 KB    |            |   0% \n",
      "m2-tzcode-2015.e     | 379 KB    | 4          |   4% \n",
      "m2-tzcode-2015.e     | 379 KB    | ########## | 100% \n",
      "m2-tzcode-2015.e     | 379 KB    | ########## | 100% \n",
      "\n",
      "m2-catgets-1.1       | 26 KB     |            |   0% \n",
      "m2-catgets-1.1       | 26 KB     | ######     |  61% \n",
      "m2-catgets-1.1       | 26 KB     | ########## | 100% \n",
      "\n",
      "m2-diffutils-3.3     | 343 KB    |            |   0% \n",
      "m2-diffutils-3.3     | 343 KB    | 4          |   5% \n",
      "m2-diffutils-3.3     | 343 KB    | ########## | 100% \n",
      "m2-diffutils-3.3     | 343 KB    | ########## | 100% \n",
      "\n",
      "m2-libreadline-6.3.0 | 275 KB    |            |   0% \n",
      "m2-libreadline-6.3.0 | 275 KB    | ########## | 100% \n",
      "m2-libreadline-6.3.0 | 275 KB    | ########## | 100% \n",
      "\n",
      "m2-libiconv-1.14     | 716 KB    |            |   0% \n",
      "m2-libiconv-1.14     | 716 KB    | ########2  |  83% \n",
      "m2-libiconv-1.14     | 716 KB    | ########## | 100% \n",
      "\n",
      "m2-gzip-1.7          | 102 KB    |            |   0% \n",
      "m2-gzip-1.7          | 102 KB    | #5         |  16% \n",
      "m2-gzip-1.7          | 102 KB    | ########## | 100% \n",
      "\n",
      "m2-base-1.0.0        | 178 KB    |            |   0% \n",
      "m2-base-1.0.0        | 178 KB    | 8          |   9% \n",
      "m2-base-1.0.0        | 178 KB    | ########## | 100% \n",
      "\n",
      "m2-mintty-1!2.2.3    | 170 KB    |            |   0% \n",
      "m2-mintty-1!2.2.3    | 170 KB    | 9          |   9% \n",
      "m2-mintty-1!2.2.3    | 170 KB    | ########## | 100% \n",
      "\n",
      "m2-libgettextpo-0.19 | 124 KB    |            |   0% \n",
      "m2-libgettextpo-0.19 | 124 KB    | #2         |  13% \n",
      "m2-libgettextpo-0.19 | 124 KB    | ########## | 100% \n",
      "\n",
      "m2-bash-completion-2 | 187 KB    |            |   0% \n",
      "m2-bash-completion-2 | 187 KB    | 8          |   9% \n",
      "m2-bash-completion-2 | 187 KB    | ########## | 100% \n",
      "m2-bash-completion-2 | 187 KB    | ########## | 100% \n",
      "\n",
      "m2-ttyrec-1.0.8      | 13 KB     |            |   0% \n",
      "m2-ttyrec-1.0.8      | 13 KB     | ########## | 100% \n",
      "m2-ttyrec-1.0.8      | 13 KB     | ########## | 100% \n",
      "\n",
      "m2-unzip-6.0         | 132 KB    |            |   0% \n",
      "m2-unzip-6.0         | 132 KB    | #2         |  12% \n",
      "m2-unzip-6.0         | 132 KB    | ########## | 100% \n",
      "\n",
      "m2-dash-0.5.8        | 94 KB     |            |   0% \n",
      "m2-dash-0.5.8        | 94 KB     | #6         |  17% \n",
      "m2-dash-0.5.8        | 94 KB     | ########## | 100% \n",
      "\n",
      "m2-libasprintf-0.19. | 6 KB      |            |   0% \n",
      "m2-libasprintf-0.19. | 6 KB      | ########## | 100% \n",
      "m2-libasprintf-0.19. | 6 KB      | ########## | 100% \n",
      "\n",
      "m2-coreutils-8.25    | 4.7 MB    |            |   0% \n",
      "m2-coreutils-8.25    | 4.7 MB    | 8          |   9% \n",
      "m2-coreutils-8.25    | 4.7 MB    | ##6        |  27% \n",
      "m2-coreutils-8.25    | 4.7 MB    | ####4      |  45% \n",
      "m2-coreutils-8.25    | 4.7 MB    | ######2    |  63% \n",
      "m2-coreutils-8.25    | 4.7 MB    | #######9   |  80% \n",
      "m2-coreutils-8.25    | 4.7 MB    | #########8 |  99% \n",
      "m2-coreutils-8.25    | 4.7 MB    | ########## | 100% \n",
      "\n",
      "m2-libcrypt-1.3      | 7 KB      |            |   0% \n",
      "m2-libcrypt-1.3      | 7 KB      | ########## | 100% \n",
      "\n",
      "m2-zlib-1.2.8        | 51 KB     |            |   0% \n",
      "m2-zlib-1.2.8        | 51 KB     | ########## | 100% \n",
      "\n",
      "m2-less-481          | 105 KB    |            |   0% \n",
      "m2-less-481          | 105 KB    | #5         |  15% \n",
      "m2-less-481          | 105 KB    | ########## | 100% \n",
      "\n",
      "m2-zip-3.0           | 186 KB    |            |   0% \n",
      "m2-zip-3.0           | 186 KB    | 8          |   9% \n",
      "m2-zip-3.0           | 186 KB    | ########## | 100% \n",
      "\n",
      "m2-gawk-4.1.3        | 1.5 MB    |            |   0% \n",
      "m2-gawk-4.1.3        | 1.5 MB    | 1          |   1% \n",
      "m2-gawk-4.1.3        | 1.5 MB    | #####4     |  55% \n",
      "m2-gawk-4.1.3        | 1.5 MB    | ########## | 100% \n",
      "m2-gawk-4.1.3        | 1.5 MB    | ########## | 100% \n",
      "\n",
      "m2-gcc-libs-5.3.0    | 1021 KB   |            |   0% \n",
      "m2-gcc-libs-5.3.0    | 1021 KB   | ######5    |  66% \n",
      "m2-gcc-libs-5.3.0    | 1021 KB   | ########## | 100% \n",
      "\n",
      "m2-findutils-4.6.0   | 635 KB    |            |   0% \n",
      "m2-findutils-4.6.0   | 635 KB    | #######8   |  78% \n",
      "m2-findutils-4.6.0   | 635 KB    | ########## | 100% \n",
      "\n",
      "msys2-conda-epoch-20 | 2 KB      |            |   0% \n",
      "msys2-conda-epoch-20 | 2 KB      | ########## | 100% \n",
      "\n",
      "m2-tftp-hpa-5.2      | 21 KB     |            |   0% \n",
      "m2-tftp-hpa-5.2      | 21 KB     | #######4   |  75% \n",
      "m2-tftp-hpa-5.2      | 21 KB     | ########## | 100% \n",
      "\n",
      "m2-gmp-6.1.0         | 407 KB    |            |   0% \n",
      "m2-gmp-6.1.0         | 407 KB    | ########## | 100% \n",
      "m2-gmp-6.1.0         | 407 KB    | ########## | 100% \n",
      "\n",
      "m2-mpfr-3.1.4        | 254 KB    |            |   0% \n",
      "m2-mpfr-3.1.4        | 254 KB    | 6          |   6% \n",
      "m2-mpfr-3.1.4        | 254 KB    | ########## | 100% \n",
      "m2-mpfr-3.1.4        | 254 KB    | ########## | 100% \n",
      "\n",
      "m2-filesystem-2016.0 | 26 KB     |            |   0% \n",
      "m2-filesystem-2016.0 | 26 KB     | ######1    |  61% \n",
      "m2-filesystem-2016.0 | 26 KB     | ########## | 100% \n",
      "Preparing transaction: ...working... done\n",
      "Verifying transaction: ...working... done\n",
      "Executing transaction: ...working... done\n"
     ]
    }
   ],
   "source": [
    "conda install posix"
   ]
  },
  {
   "cell_type": "code",
   "execution_count": 8,
   "metadata": {
    "id": "c5YPeLPFOXaD"
   },
   "outputs": [
    {
     "name": "stdout",
     "output_type": "stream",
     "text": [
      "age,workclass,fnlwgt,education,education-num,marital-status,occupation,relationship,race,sex,capital-gain,capital-loss,hours-per-week,native-country,label\n",
      "39, State-gov, 77516, Bachelors, 13, Never-married, Adm-clerical, Not-in-family, White, Male, 2174, 0, 40, United-States, <=50K\n",
      "50, Self-emp-not-inc, 83311, Bachelors, 13, Married-civ-spouse, Exec-managerial, Husband, White, Male, 0, 0, 13, United-States, <=50K\n",
      "38, Private, 215646, HS-grad, 9, Divorced, Handlers-cleaners, Not-in-family, White, Male, 0, 0, 40, United-States, <=50K\n",
      "53, Private, 234721, 11th, 7, Married-civ-spouse, Handlers-cleaners, Husband, Black, Male, 0, 0, 40, United-States, <=50K\n",
      "28, Private, 338409, Bachelors, 13, Married-civ-spouse, Prof-specialty, Wife, Black, Female, 0, 0, 40, Cuba, <=50K\n",
      "37, Private, 284582, Masters, 14, Married-civ-spouse, Exec-managerial, Wife, White, Female, 0, 0, 40, United-States, <=50K\n",
      "49, Private, 160187, 9th, 5, Married-spouse-absent, Other-service, Not-in-family, Black, Female, 0, 0, 16, Jamaica, <=50K\n",
      "52, Self-emp-not-inc, 209642, HS-grad, 9, Married-civ-spouse, Exec-managerial, Husband, White, Male, 0, 0, 45, United-States, >50K\n",
      "31, Private, 45781, Masters, 14, Never-married, Prof-specialty, Not-in-family, White, Female, 14084, 0, 50, United-States, >50K\n"
     ]
    }
   ],
   "source": [
    "# preview the first few rows of the CSV file\n",
    "!head {_data_filepath}"
   ]
  },
  {
   "cell_type": "markdown",
   "metadata": {
    "id": "8ONIE_hdkPS4"
   },
   "source": [
    "### Create the Interactive Context\n",
    "\n",
    "When pushing to production, you want to automate the pipeline execution using orchestrators such as [Apache Beam](https://beam.apache.org/) and [Kubeflow](https://www.kubeflow.org/). You will not be doing that just yet and will instead execute the pipeline from this notebook. When experimenting in a notebook environment, you will be *manually* executing the pipeline components (i.e. you are the orchestrator). For that, TFX provides the [Interactive Context](https://github.com/tensorflow/tfx/blob/master/tfx/orchestration/experimental/interactive/interactive_context.py) so you can step through each component and inspect its outputs."
   ]
  },
  {
   "cell_type": "markdown",
   "metadata": {},
   "source": [
    "You will initialize the `InteractiveContext` below. This will create a database in the `_pipeline_root` directory which the different components will use to save or get the state of the component executions. You will learn more about this in Week 3 when we discuss ML Metadata. For now, you can think of it as the data store that makes it possible for the different pipeline components to work together. \n",
    "\n",
    "*Note: You can configure the database to connect to but for this exercise, we will just use the default which is a newly created local sqlite file.* ***You will see the warning after running the cell below and you can safely ignore it.***"
   ]
  },
  {
   "cell_type": "code",
   "execution_count": null,
   "metadata": {
    "id": "0Rh6K5sUf9dd"
   },
   "outputs": [],
   "source": [
    "# Initialize the InteractiveContext with a local sqlite file.\n",
    "# If you leave `_pipeline_root` blank, then the db will be created in a temporary directory.\n",
    "# You can safely ignore the warning about the missing config file.\n",
    "context = InteractiveContext(pipeline_root=_pipeline_root)"
   ]
  },
  {
   "cell_type": "markdown",
   "metadata": {
    "id": "HdQWxfsVkzdJ"
   },
   "source": [
    "## Run TFX components interactively\n",
    "\n",
    "With that, you can now run the pipeline interactively. You will see how to do that as you go through the different components below."
   ]
  },
  {
   "cell_type": "markdown",
   "metadata": {
    "id": "L9fwt9gQk3BR"
   },
   "source": [
    "### ExampleGen\n",
    "\n",
    "You will start the pipeline with the [ExampleGen](https://www.tensorflow.org/tfx/guide/examplegen) component. This  will:\n",
    "\n",
    "*   split the data into training and evaluation sets (by default: 2/3 train, 1/3 eval).\n",
    "*   convert each data row into `tf.train.Example` format. This [protocol buffer](https://developers.google.com/protocol-buffers) is designed for Tensorflow operations and is used by the TFX components.\n",
    "*   compress and save the data collection under the `_pipeline_root` directory for other components to access. These examples are stored in `TFRecord` format. This optimizes read and write operations within Tensorflow especially if you have a large collection of data.\n",
    "\n",
    "Its constructor takes the path to your data source/directory. In our case, this is the `_data_root` path. The component supports several data sources such as CSV, tf.Record, and BigQuery. Since our data is a CSV file, we will use [CsvExampleGen](https://www.tensorflow.org/tfx/api_docs/python/tfx/components/CsvExampleGen) to ingest the data.\n",
    "\n",
    "Run the cell below to instantiate `CsvExampleGen`."
   ]
  },
  {
   "cell_type": "code",
   "execution_count": null,
   "metadata": {
    "id": "PyXjuMt8f-9u",
    "scrolled": true
   },
   "outputs": [],
   "source": [
    "# Instantiate ExampleGen with the input CSV dataset\n",
    "example_gen = tfx.components.CsvExampleGen(input_base=_data_root)"
   ]
  },
  {
   "cell_type": "markdown",
   "metadata": {},
   "source": [
    "You can execute the component by calling the `run()` method of the `InteractiveContext`."
   ]
  },
  {
   "cell_type": "code",
   "execution_count": null,
   "metadata": {},
   "outputs": [],
   "source": [
    "# Execute the component\n",
    "context.run(example_gen)"
   ]
  },
  {
   "cell_type": "markdown",
   "metadata": {
    "id": "OqCoZh7KPUm9"
   },
   "source": [
    "You will notice that an output cell showing the execution results is automatically shown. This metadata is recorded into the database created earlier. This allows you to keep track of your project runs. For example, if you run it again, you will notice the `.execution_id` incrementing.\n",
    "\n",
    "The output of the components are called *artifacts* and you can see an example by navigating through  `.component.outputs > ['examples'] > Channel > ._artifacts > [0]` above. It shows information such as where the converted data is stored (`.uri`) and the splits generated (`.split_names`).\n",
    "\n",
    "You can also examine the output artifacts programmatically with the code below."
   ]
  },
  {
   "cell_type": "code",
   "execution_count": null,
   "metadata": {
    "id": "880KkTAkPeUg"
   },
   "outputs": [],
   "source": [
    "# get the artifact object\n",
    "artifact = example_gen.outputs['examples'].get()[0]\n",
    "\n",
    "# print split names and uri\n",
    "print(f'split names: {artifact.split_names}')\n",
    "print(f'artifact uri: {artifact.uri}')"
   ]
  },
  {
   "cell_type": "markdown",
   "metadata": {},
   "source": [
    "If you're wondering , the `number` in `./pipeline/CsvExampleGen/examples/{number}` is the execution id associated with that dataset. If you restart the kernel of this workspace and re-run up to this cell, you will notice a new folder with a different id name created. This shows that TFX is keeping versions of your data so you can roll back if you want to investigate a particular execution."
   ]
  },
  {
   "cell_type": "markdown",
   "metadata": {
    "id": "J6vcbW_wPqvl"
   },
   "source": [
    "As mentioned, the ingested data is stored in the directory shown in the `uri` field. It is also compressed using `gzip` and you can verify by running the cell below."
   ]
  },
  {
   "cell_type": "code",
   "execution_count": null,
   "metadata": {},
   "outputs": [],
   "source": [
    "# Get the URI of the output artifact representing the training examples\n",
    "train_uri = os.path.join(artifact.uri, 'Split-train')\n",
    "\n",
    "# See the contents of the `train` folder\n",
    "!ls {train_uri}"
   ]
  },
  {
   "cell_type": "markdown",
   "metadata": {},
   "source": [
    "In a notebook environment, it may be useful to examine a few examples of the data especially if you're still experimenting. Since the data collection is saved in [TFRecord format](https://www.tensorflow.org/tutorials/load_data/tfrecord), you will need to use methods that work with that data type. You will need to unpack the individual examples from the `TFRecord` file and format it for printing. Let's do that in the following cells:"
   ]
  },
  {
   "cell_type": "code",
   "execution_count": null,
   "metadata": {
    "id": "H4XIXjiCPwzQ"
   },
   "outputs": [],
   "source": [
    "# Get the list of files in this directory (all compressed TFRecord files)\n",
    "tfrecord_filenames = [os.path.join(train_uri, name)\n",
    "                      for name in os.listdir(train_uri)]\n",
    "\n",
    "# Create a `TFRecordDataset` to read these files\n",
    "dataset = tf.data.TFRecordDataset(tfrecord_filenames, compression_type=\"GZIP\")"
   ]
  },
  {
   "cell_type": "code",
   "execution_count": null,
   "metadata": {},
   "outputs": [],
   "source": [
    "# Define a helper function to get individual examples\n",
    "def get_records(dataset, num_records):\n",
    "    '''Extracts records from the given dataset.\n",
    "    Args:\n",
    "        dataset (TFRecordDataset): dataset saved by ExampleGen\n",
    "        num_records (int): number of records to preview\n",
    "    '''\n",
    "    \n",
    "    # initialize an empty list\n",
    "    records = []\n",
    "    \n",
    "    # Use the `take()` method to specify how many records to get\n",
    "    for tfrecord in dataset.take(num_records):\n",
    "        \n",
    "        # Get the numpy property of the tensor\n",
    "        serialized_example = tfrecord.numpy()\n",
    "        \n",
    "        # Initialize a `tf.train.Example()` to read the serialized data\n",
    "        example = tf.train.Example()\n",
    "        \n",
    "        # Read the example data (output is a protocol buffer message)\n",
    "        example.ParseFromString(serialized_example)\n",
    "        \n",
    "        # convert the protocol bufffer message to a Python dictionary\n",
    "        example_dict = (MessageToDict(example))\n",
    "        \n",
    "        # append to the records list\n",
    "        records.append(example_dict)\n",
    "        \n",
    "    return records"
   ]
  },
  {
   "cell_type": "code",
   "execution_count": null,
   "metadata": {},
   "outputs": [],
   "source": [
    "# Get 3 records from the dataset\n",
    "sample_records = get_records(dataset, 3)\n",
    "\n",
    "# Print the output\n",
    "pp.pprint(sample_records)"
   ]
  },
  {
   "cell_type": "markdown",
   "metadata": {
    "id": "2gluYjccf-IP"
   },
   "source": [
    "Now that `ExampleGen` has finished ingesting the data, the next step is data analysis."
   ]
  },
  {
   "cell_type": "markdown",
   "metadata": {
    "id": "csM6BFhtk5Aa"
   },
   "source": [
    "### StatisticsGen\n",
    "The [StatisticsGen](https://www.tensorflow.org/tfx/guide/statsgen) component computes statistics over your dataset for data analysis, as well as for use in downstream components (i.e. next steps in the pipeline). As mentioned earlier, this component uses TFDV under the hood so its output will be familiar to you.\n",
    "\n",
    "`StatisticsGen` takes as input the dataset we just ingested using `CsvExampleGen`."
   ]
  },
  {
   "cell_type": "code",
   "execution_count": null,
   "metadata": {
    "id": "MAscCCYWgA-9"
   },
   "outputs": [],
   "source": [
    "# Instantiate StatisticsGen with the ExampleGen ingested dataset\n",
    "statistics_gen = tfx.components.StatisticsGen(\n",
    "    examples=example_gen.outputs['examples'])\n",
    "\n",
    "# Execute the component\n",
    "context.run(statistics_gen)"
   ]
  },
  {
   "cell_type": "markdown",
   "metadata": {},
   "source": [
    "You can display the statistics with the `show()` method.\n",
    "\n",
    "*Note: You can safely ignore the warning shown when running the cell below.*"
   ]
  },
  {
   "cell_type": "code",
   "execution_count": null,
   "metadata": {},
   "outputs": [],
   "source": [
    "# Show the output statistics\n",
    "context.show(statistics_gen.outputs['statistics'])"
   ]
  },
  {
   "cell_type": "markdown",
   "metadata": {
    "id": "HLKLTO9Nk60p"
   },
   "source": [
    "### SchemaGen\n",
    "\n",
    "The [SchemaGen](https://www.tensorflow.org/tfx/guide/schemagen) component also uses TFDV to generate a schema based on your data statistics. As you've learned previously, a schema defines the expected bounds, types, and properties of the features in your dataset.\n",
    "\n",
    "`SchemaGen` will take as input the statistics that we generated with `StatisticsGen`, looking at the training split by default."
   ]
  },
  {
   "cell_type": "code",
   "execution_count": null,
   "metadata": {
    "id": "ygQvZ6hsiQ_J"
   },
   "outputs": [],
   "source": [
    "# Instantiate SchemaGen with the StatisticsGen ingested dataset\n",
    "schema_gen = tfx.components.SchemaGen(\n",
    "    statistics=statistics_gen.outputs['statistics'],\n",
    "    )\n",
    "\n",
    "# Run the component\n",
    "context.run(schema_gen)"
   ]
  },
  {
   "cell_type": "markdown",
   "metadata": {
    "id": "zi6TxTUKXM6b"
   },
   "source": [
    "You can then visualize the generated schema as a table."
   ]
  },
  {
   "cell_type": "code",
   "execution_count": null,
   "metadata": {
    "id": "Ec9vqDXpXeMb"
   },
   "outputs": [],
   "source": [
    "# Visualize the schema\n",
    "context.show(schema_gen.outputs['schema'])"
   ]
  },
  {
   "cell_type": "markdown",
   "metadata": {},
   "source": [
    "Let's now move to the next step in the pipeline and see if there are any anomalies in the data."
   ]
  },
  {
   "cell_type": "markdown",
   "metadata": {
    "id": "V1qcUuO9k9f8"
   },
   "source": [
    "### ExampleValidator\n",
    "\n",
    "The [ExampleValidator](https://www.tensorflow.org/tfx/guide/exampleval) component detects anomalies in your data based on the generated schema from the previous step. Like the previous two components, it also uses TFDV under the hood. \n",
    "\n",
    "`ExampleValidator` will take as input the statistics from `StatisticsGen` and the schema from `SchemaGen`. By default, it compares the statistics from the evaluation split to the schema from the training split."
   ]
  },
  {
   "cell_type": "code",
   "execution_count": null,
   "metadata": {
    "id": "XRlRUuGgiXks"
   },
   "outputs": [],
   "source": [
    "# Instantiate ExampleValidator with the StatisticsGen and SchemaGen ingested data\n",
    "example_validator = tfx.components.ExampleValidator(\n",
    "    statistics=statistics_gen.outputs['statistics'],\n",
    "    schema=schema_gen.outputs['schema'])\n",
    "\n",
    "# Run the component.\n",
    "context.run(example_validator)"
   ]
  },
  {
   "cell_type": "markdown",
   "metadata": {
    "id": "855mrHgJcoer"
   },
   "source": [
    "As with the previous component, you can also visualize the anomalies as a table."
   ]
  },
  {
   "cell_type": "code",
   "execution_count": null,
   "metadata": {
    "id": "TDyAAozQcrk3"
   },
   "outputs": [],
   "source": [
    "# Visualize the results\n",
    "context.show(example_validator.outputs['anomalies'])"
   ]
  },
  {
   "cell_type": "markdown",
   "metadata": {},
   "source": [
    "With no anomalies detected, you can proceed to the next step in the pipeline."
   ]
  },
  {
   "cell_type": "markdown",
   "metadata": {
    "id": "JPViEz5RlA36"
   },
   "source": [
    "### Transform\n",
    "The [Transform](https://www.tensorflow.org/tfx/guide/transform) component performs feature engineering for both training and serving datasets. It uses the [TensorFlow Transform](https://www.tensorflow.org/tfx/transform/get_started) library introduced in the first ungraded lab of this week.\n",
    "\n",
    "`Transform` will take as input the data from `ExampleGen`, the schema from `SchemaGen`, as well as a module containing the preprocessing function.\n",
    "\n",
    "In this section, you will work on an example of a user-defined Transform code. The pipeline needs to load this as a module so you need to use the magic command `%% writefile` to save the file to disk. Let's first define a few constants that group the data's attributes according to the transforms we will perform later. This file will also be saved locally."
   ]
  },
  {
   "cell_type": "code",
   "execution_count": null,
   "metadata": {
    "id": "PuNSiUKb4YJf"
   },
   "outputs": [],
   "source": [
    "# Set the constants module filename\n",
    "_census_constants_module_file = 'census_constants.py'"
   ]
  },
  {
   "cell_type": "code",
   "execution_count": null,
   "metadata": {
    "id": "HPjhXuIF4YJh"
   },
   "outputs": [],
   "source": [
    "%%writefile {_census_constants_module_file}\n",
    "\n",
    "# Features with string data types that will be converted to indices\n",
    "CATEGORICAL_FEATURE_KEYS = [\n",
    "    'education', 'marital-status', 'occupation', 'race', 'relationship', 'workclass', 'sex', 'native-country'\n",
    "]\n",
    "\n",
    "# Numerical features that are marked as continuous\n",
    "NUMERIC_FEATURE_KEYS = ['fnlwgt', 'education-num', 'capital-gain', 'capital-loss', 'hours-per-week']\n",
    "\n",
    "# Feature that can be grouped into buckets\n",
    "BUCKET_FEATURE_KEYS = ['age']\n",
    "\n",
    "# Number of buckets used by tf.transform for encoding each bucket feature.\n",
    "FEATURE_BUCKET_COUNT = {'age': 4}\n",
    "\n",
    "# Feature that the model will predict\n",
    "LABEL_KEY = 'label'\n",
    "\n",
    "# Utility function for renaming the feature\n",
    "def transformed_name(key):\n",
    "    return key + '_xf'"
   ]
  },
  {
   "cell_type": "markdown",
   "metadata": {
    "id": "Duj2Ax5z4YJl"
   },
   "source": [
    "Next, you will work on the module that contains `preprocessing_fn()`. As you've seen in the previous lab, this function defines how you will transform the raw data into features that your model can train on (i.e. the next step in the pipeline). You will use the [tft module functions](https://www.tensorflow.org/tfx/transform/api_docs/python/tft) to make these transformations. \n",
    "\n",
    "*Note: After completing the entire notebook, we encourage you to go back to this section and try different tft functions aside from the ones already provided below. You can also modify the grouping of the feature keys in the constants file if you want. For example, you may want to scale some features to `[0, 1]` while others are scaled to the z-score. This will be good practice for this week's assignment.*"
   ]
  },
  {
   "cell_type": "code",
   "execution_count": null,
   "metadata": {
    "id": "4AJ9hBs94YJm"
   },
   "outputs": [],
   "source": [
    "# Set the transform module filename\n",
    "_census_transform_module_file = 'census_transform.py'"
   ]
  },
  {
   "cell_type": "code",
   "execution_count": null,
   "metadata": {
    "id": "MYmxxx9A4YJn"
   },
   "outputs": [],
   "source": [
    "%%writefile {_census_transform_module_file}\n",
    "\n",
    "import tensorflow as tf\n",
    "import tensorflow_transform as tft\n",
    "\n",
    "import census_constants\n",
    "\n",
    "# Unpack the contents of the constants module\n",
    "_NUMERIC_FEATURE_KEYS = census_constants.NUMERIC_FEATURE_KEYS\n",
    "_CATEGORICAL_FEATURE_KEYS = census_constants.CATEGORICAL_FEATURE_KEYS\n",
    "_BUCKET_FEATURE_KEYS = census_constants.BUCKET_FEATURE_KEYS\n",
    "_FEATURE_BUCKET_COUNT = census_constants.FEATURE_BUCKET_COUNT\n",
    "_LABEL_KEY = census_constants.LABEL_KEY\n",
    "_transformed_name = census_constants.transformed_name\n",
    "\n",
    "\n",
    "# Define the transformations\n",
    "def preprocessing_fn(inputs):\n",
    "    \"\"\"tf.transform's callback function for preprocessing inputs.\n",
    "    Args:\n",
    "        inputs: map from feature keys to raw not-yet-transformed features.\n",
    "    Returns:\n",
    "        Map from string feature key to transformed feature operations.\n",
    "    \"\"\"\n",
    "    outputs = {}\n",
    "\n",
    "    # Scale these features to the range [0,1]\n",
    "    for key in _NUMERIC_FEATURE_KEYS:\n",
    "        outputs[_transformed_name(key)] = tft.scale_to_0_1(\n",
    "            inputs[key])\n",
    "    \n",
    "    # Bucketize these features\n",
    "    for key in _BUCKET_FEATURE_KEYS:\n",
    "        outputs[_transformed_name(key)] = tft.bucketize(\n",
    "            inputs[key], _FEATURE_BUCKET_COUNT[key])\n",
    "\n",
    "    # Convert strings to indices in a vocabulary\n",
    "    for key in _CATEGORICAL_FEATURE_KEYS:\n",
    "        outputs[_transformed_name(key)] = tft.compute_and_apply_vocabulary(inputs[key])\n",
    "\n",
    "    # Convert the label strings to an index\n",
    "    outputs[_transformed_name(_LABEL_KEY)] = tft.compute_and_apply_vocabulary(inputs[_LABEL_KEY])\n",
    "\n",
    "    return outputs"
   ]
  },
  {
   "cell_type": "markdown",
   "metadata": {
    "id": "wgbmZr3sgbWW"
   },
   "source": [
    "You can now pass the training data, schema, and transform module to the `Transform` component. You can ignore the warning messages generated by Apache Beam regarding type hints."
   ]
  },
  {
   "cell_type": "code",
   "execution_count": null,
   "metadata": {
    "id": "jHfhth_GiZI9",
    "scrolled": false
   },
   "outputs": [],
   "source": [
    "# Ignore TF warning messages\n",
    "tf.get_logger().setLevel('ERROR')\n",
    "\n",
    "# Instantiate the Transform component\n",
    "transform = tfx.components.Transform(\n",
    "    examples=example_gen.outputs['examples'],\n",
    "    schema=schema_gen.outputs['schema'],\n",
    "    module_file=os.path.abspath(_census_transform_module_file))\n",
    "\n",
    "# Run the component\n",
    "context.run(transform)"
   ]
  },
  {
   "cell_type": "markdown",
   "metadata": {
    "id": "fwAwb4rARRQ2"
   },
   "source": [
    "Let's examine the output artifacts of `Transform` (i.e. `.component.outputs` from the output cell above). This component produces several outputs:\n",
    "\n",
    "* `transform_graph` is the graph that can perform the preprocessing operations. This graph will be included during training and serving to ensure consistent transformations of incoming data.\n",
    "* `transformed_examples` points to the preprocessed training and evaluation data.\n",
    "* `updated_analyzer_cache` are stored calculations from previous runs."
   ]
  },
  {
   "cell_type": "markdown",
   "metadata": {
    "id": "vyFkBd9AR1sy"
   },
   "source": [
    "Take a peek at the `transform_graph` artifact.  It points to a directory containing three subdirectories."
   ]
  },
  {
   "cell_type": "code",
   "execution_count": null,
   "metadata": {
    "id": "5tRw4DneR3i7"
   },
   "outputs": [],
   "source": [
    "# Get the uri of the transform graph\n",
    "transform_graph_uri = transform.outputs['transform_graph'].get()[0].uri\n",
    "\n",
    "# List the subdirectories under the uri\n",
    "os.listdir(transform_graph_uri)"
   ]
  },
  {
   "cell_type": "markdown",
   "metadata": {
    "id": "4fqV54CIR6Pu"
   },
   "source": [
    "* The `metadata` subdirectory contains the schema of the original data.\n",
    "* The `transformed_metadata` subdirectory contains the schema of the preprocessed data. \n",
    "* The `transform_fn` subdirectory contains the actual preprocessing graph. \n",
    "\n",
    "You can also take a look at the first three transformed examples using the helper function defined earlier."
   ]
  },
  {
   "cell_type": "code",
   "execution_count": null,
   "metadata": {
    "id": "pwbW2zPKR_S4"
   },
   "outputs": [],
   "source": [
    "# Get the URI of the output artifact representing the transformed examples\n",
    "train_uri = os.path.join(transform.outputs['transformed_examples'].get()[0].uri, 'Split-train')\n",
    "\n",
    "# Get the list of files in this directory (all compressed TFRecord files)\n",
    "tfrecord_filenames = [os.path.join(train_uri, name)\n",
    "                      for name in os.listdir(train_uri)]\n",
    "\n",
    "# Create a `TFRecordDataset` to read these files\n",
    "transformed_dataset = tf.data.TFRecordDataset(tfrecord_filenames, compression_type=\"GZIP\")"
   ]
  },
  {
   "cell_type": "code",
   "execution_count": null,
   "metadata": {
    "id": "mSDZ2rJC7NQW"
   },
   "outputs": [],
   "source": [
    "# Get 3 records from the dataset\n",
    "sample_records_xf = get_records(transformed_dataset, 3)\n",
    "\n",
    "# Print the output\n",
    "pp.pprint(sample_records_xf)"
   ]
  },
  {
   "cell_type": "markdown",
   "metadata": {},
   "source": [
    "**Congratulations!** You have now executed all the components in our pipeline. You will get hands-on practice as well with training and model evaluation in future courses but for now, we encourage you to try exploring the different components we just discussed. As mentioned earlier, a useful exercise for the upcoming assignment is to be familiar with using different `tft` functions in your transform module. Try exploring the [documentation](https://www.tensorflow.org/tfx/transform/api_docs/python/tft) and see what other functions you can use in the transform module. You can also do the optional challenge below for more practice.\n",
    "\n",
    "**Optional Challenge:** Using this notebook as reference, load the [Seoul Bike Sharing Demand Dataset](https://archive.ics.uci.edu/ml/datasets/Seoul+Bike+Sharing+Demand) and run it through the five stages of the pipeline discussed here. You will first go through the data ingestion and validation components then finally, you will study the dataset's features and transform it to a format that a model can consume. Once you're done, you can visit this [Discourse topic](https://community.deeplearning.ai/t/bike-sharing-dataset-in-c2-w2-lab-2-feature-engineering-pipeline/38979) where one of your mentors, Fabio, has shared his solution. Feel free to discuss and share your solution as well!"
   ]
  }
 ],
 "metadata": {
  "kernelspec": {
   "display_name": "Python 3",
   "language": "python",
   "name": "python3"
  },
  "language_info": {
   "codemirror_mode": {
    "name": "ipython",
    "version": 3
   },
   "file_extension": ".py",
   "mimetype": "text/x-python",
   "name": "python",
   "nbconvert_exporter": "python",
   "pygments_lexer": "ipython3",
   "version": "3.7.11"
  }
 },
 "nbformat": 4,
 "nbformat_minor": 1
}
